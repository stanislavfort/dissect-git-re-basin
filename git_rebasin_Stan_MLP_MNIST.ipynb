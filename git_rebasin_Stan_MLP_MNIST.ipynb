{
  "nbformat": 4,
  "nbformat_minor": 0,
  "metadata": {
    "colab": {
      "provenance": [],
      "collapsed_sections": [],
      "toc_visible": true,
      "machine_shape": "hm",
      "authorship_tag": "ABX9TyNYMeU9+yMJJNJ1bAdyypPS",
      "include_colab_link": true
    },
    "kernelspec": {
      "name": "python3",
      "display_name": "Python 3"
    },
    "language_info": {
      "name": "python"
    },
    "accelerator": "GPU",
    "gpuClass": "standard",
    "widgets": {
      "application/vnd.jupyter.widget-state+json": {
        "f6fee529aac44f8f9b87f904061f3ab7": {
          "model_module": "@jupyter-widgets/controls",
          "model_name": "HBoxModel",
          "model_module_version": "1.5.0",
          "state": {
            "_dom_classes": [],
            "_model_module": "@jupyter-widgets/controls",
            "_model_module_version": "1.5.0",
            "_model_name": "HBoxModel",
            "_view_count": null,
            "_view_module": "@jupyter-widgets/controls",
            "_view_module_version": "1.5.0",
            "_view_name": "HBoxView",
            "box_style": "",
            "children": [
              "IPY_MODEL_e1bc7bb3715f44ac952ea88314401307",
              "IPY_MODEL_fc34d6ba192f4aeeb25f48e2eac3a9c6",
              "IPY_MODEL_db34a007ef304d2db8b49cda3eb9b5be"
            ],
            "layout": "IPY_MODEL_ff6d50266a4e418aab70bb5467373297"
          }
        },
        "e1bc7bb3715f44ac952ea88314401307": {
          "model_module": "@jupyter-widgets/controls",
          "model_name": "HTMLModel",
          "model_module_version": "1.5.0",
          "state": {
            "_dom_classes": [],
            "_model_module": "@jupyter-widgets/controls",
            "_model_module_version": "1.5.0",
            "_model_name": "HTMLModel",
            "_view_count": null,
            "_view_module": "@jupyter-widgets/controls",
            "_view_module_version": "1.5.0",
            "_view_name": "HTMLView",
            "description": "",
            "description_tooltip": null,
            "layout": "IPY_MODEL_413932aec2f94b47ace5dbc6e71d3092",
            "placeholder": "​",
            "style": "IPY_MODEL_30b55b615239472694f82e3441cd7f4e",
            "value": "Dl Completed...: 100%"
          }
        },
        "fc34d6ba192f4aeeb25f48e2eac3a9c6": {
          "model_module": "@jupyter-widgets/controls",
          "model_name": "FloatProgressModel",
          "model_module_version": "1.5.0",
          "state": {
            "_dom_classes": [],
            "_model_module": "@jupyter-widgets/controls",
            "_model_module_version": "1.5.0",
            "_model_name": "FloatProgressModel",
            "_view_count": null,
            "_view_module": "@jupyter-widgets/controls",
            "_view_module_version": "1.5.0",
            "_view_name": "ProgressView",
            "bar_style": "success",
            "description": "",
            "description_tooltip": null,
            "layout": "IPY_MODEL_85509c9eacb9438281d15e746a793bfe",
            "max": 4,
            "min": 0,
            "orientation": "horizontal",
            "style": "IPY_MODEL_fcc4880491ac4a54b686943802bd179d",
            "value": 4
          }
        },
        "db34a007ef304d2db8b49cda3eb9b5be": {
          "model_module": "@jupyter-widgets/controls",
          "model_name": "HTMLModel",
          "model_module_version": "1.5.0",
          "state": {
            "_dom_classes": [],
            "_model_module": "@jupyter-widgets/controls",
            "_model_module_version": "1.5.0",
            "_model_name": "HTMLModel",
            "_view_count": null,
            "_view_module": "@jupyter-widgets/controls",
            "_view_module_version": "1.5.0",
            "_view_name": "HTMLView",
            "description": "",
            "description_tooltip": null,
            "layout": "IPY_MODEL_be2801cf71584a4fa547ef1bb03a619b",
            "placeholder": "​",
            "style": "IPY_MODEL_d6c49875a0eb40f5a2ebd464213adeed",
            "value": " 4/4 [00:01&lt;00:00,  2.00 file/s]"
          }
        },
        "ff6d50266a4e418aab70bb5467373297": {
          "model_module": "@jupyter-widgets/base",
          "model_name": "LayoutModel",
          "model_module_version": "1.2.0",
          "state": {
            "_model_module": "@jupyter-widgets/base",
            "_model_module_version": "1.2.0",
            "_model_name": "LayoutModel",
            "_view_count": null,
            "_view_module": "@jupyter-widgets/base",
            "_view_module_version": "1.2.0",
            "_view_name": "LayoutView",
            "align_content": null,
            "align_items": null,
            "align_self": null,
            "border": null,
            "bottom": null,
            "display": null,
            "flex": null,
            "flex_flow": null,
            "grid_area": null,
            "grid_auto_columns": null,
            "grid_auto_flow": null,
            "grid_auto_rows": null,
            "grid_column": null,
            "grid_gap": null,
            "grid_row": null,
            "grid_template_areas": null,
            "grid_template_columns": null,
            "grid_template_rows": null,
            "height": null,
            "justify_content": null,
            "justify_items": null,
            "left": null,
            "margin": null,
            "max_height": null,
            "max_width": null,
            "min_height": null,
            "min_width": null,
            "object_fit": null,
            "object_position": null,
            "order": null,
            "overflow": null,
            "overflow_x": null,
            "overflow_y": null,
            "padding": null,
            "right": null,
            "top": null,
            "visibility": null,
            "width": null
          }
        },
        "413932aec2f94b47ace5dbc6e71d3092": {
          "model_module": "@jupyter-widgets/base",
          "model_name": "LayoutModel",
          "model_module_version": "1.2.0",
          "state": {
            "_model_module": "@jupyter-widgets/base",
            "_model_module_version": "1.2.0",
            "_model_name": "LayoutModel",
            "_view_count": null,
            "_view_module": "@jupyter-widgets/base",
            "_view_module_version": "1.2.0",
            "_view_name": "LayoutView",
            "align_content": null,
            "align_items": null,
            "align_self": null,
            "border": null,
            "bottom": null,
            "display": null,
            "flex": null,
            "flex_flow": null,
            "grid_area": null,
            "grid_auto_columns": null,
            "grid_auto_flow": null,
            "grid_auto_rows": null,
            "grid_column": null,
            "grid_gap": null,
            "grid_row": null,
            "grid_template_areas": null,
            "grid_template_columns": null,
            "grid_template_rows": null,
            "height": null,
            "justify_content": null,
            "justify_items": null,
            "left": null,
            "margin": null,
            "max_height": null,
            "max_width": null,
            "min_height": null,
            "min_width": null,
            "object_fit": null,
            "object_position": null,
            "order": null,
            "overflow": null,
            "overflow_x": null,
            "overflow_y": null,
            "padding": null,
            "right": null,
            "top": null,
            "visibility": null,
            "width": null
          }
        },
        "30b55b615239472694f82e3441cd7f4e": {
          "model_module": "@jupyter-widgets/controls",
          "model_name": "DescriptionStyleModel",
          "model_module_version": "1.5.0",
          "state": {
            "_model_module": "@jupyter-widgets/controls",
            "_model_module_version": "1.5.0",
            "_model_name": "DescriptionStyleModel",
            "_view_count": null,
            "_view_module": "@jupyter-widgets/base",
            "_view_module_version": "1.2.0",
            "_view_name": "StyleView",
            "description_width": ""
          }
        },
        "85509c9eacb9438281d15e746a793bfe": {
          "model_module": "@jupyter-widgets/base",
          "model_name": "LayoutModel",
          "model_module_version": "1.2.0",
          "state": {
            "_model_module": "@jupyter-widgets/base",
            "_model_module_version": "1.2.0",
            "_model_name": "LayoutModel",
            "_view_count": null,
            "_view_module": "@jupyter-widgets/base",
            "_view_module_version": "1.2.0",
            "_view_name": "LayoutView",
            "align_content": null,
            "align_items": null,
            "align_self": null,
            "border": null,
            "bottom": null,
            "display": null,
            "flex": null,
            "flex_flow": null,
            "grid_area": null,
            "grid_auto_columns": null,
            "grid_auto_flow": null,
            "grid_auto_rows": null,
            "grid_column": null,
            "grid_gap": null,
            "grid_row": null,
            "grid_template_areas": null,
            "grid_template_columns": null,
            "grid_template_rows": null,
            "height": null,
            "justify_content": null,
            "justify_items": null,
            "left": null,
            "margin": null,
            "max_height": null,
            "max_width": null,
            "min_height": null,
            "min_width": null,
            "object_fit": null,
            "object_position": null,
            "order": null,
            "overflow": null,
            "overflow_x": null,
            "overflow_y": null,
            "padding": null,
            "right": null,
            "top": null,
            "visibility": null,
            "width": null
          }
        },
        "fcc4880491ac4a54b686943802bd179d": {
          "model_module": "@jupyter-widgets/controls",
          "model_name": "ProgressStyleModel",
          "model_module_version": "1.5.0",
          "state": {
            "_model_module": "@jupyter-widgets/controls",
            "_model_module_version": "1.5.0",
            "_model_name": "ProgressStyleModel",
            "_view_count": null,
            "_view_module": "@jupyter-widgets/base",
            "_view_module_version": "1.2.0",
            "_view_name": "StyleView",
            "bar_color": null,
            "description_width": ""
          }
        },
        "be2801cf71584a4fa547ef1bb03a619b": {
          "model_module": "@jupyter-widgets/base",
          "model_name": "LayoutModel",
          "model_module_version": "1.2.0",
          "state": {
            "_model_module": "@jupyter-widgets/base",
            "_model_module_version": "1.2.0",
            "_model_name": "LayoutModel",
            "_view_count": null,
            "_view_module": "@jupyter-widgets/base",
            "_view_module_version": "1.2.0",
            "_view_name": "LayoutView",
            "align_content": null,
            "align_items": null,
            "align_self": null,
            "border": null,
            "bottom": null,
            "display": null,
            "flex": null,
            "flex_flow": null,
            "grid_area": null,
            "grid_auto_columns": null,
            "grid_auto_flow": null,
            "grid_auto_rows": null,
            "grid_column": null,
            "grid_gap": null,
            "grid_row": null,
            "grid_template_areas": null,
            "grid_template_columns": null,
            "grid_template_rows": null,
            "height": null,
            "justify_content": null,
            "justify_items": null,
            "left": null,
            "margin": null,
            "max_height": null,
            "max_width": null,
            "min_height": null,
            "min_width": null,
            "object_fit": null,
            "object_position": null,
            "order": null,
            "overflow": null,
            "overflow_x": null,
            "overflow_y": null,
            "padding": null,
            "right": null,
            "top": null,
            "visibility": null,
            "width": null
          }
        },
        "d6c49875a0eb40f5a2ebd464213adeed": {
          "model_module": "@jupyter-widgets/controls",
          "model_name": "DescriptionStyleModel",
          "model_module_version": "1.5.0",
          "state": {
            "_model_module": "@jupyter-widgets/controls",
            "_model_module_version": "1.5.0",
            "_model_name": "DescriptionStyleModel",
            "_view_count": null,
            "_view_module": "@jupyter-widgets/base",
            "_view_module_version": "1.2.0",
            "_view_name": "StyleView",
            "description_width": ""
          }
        }
      }
    }
  },
  "cells": [
    {
      "cell_type": "markdown",
      "metadata": {
        "id": "view-in-github",
        "colab_type": "text"
      },
      "source": [
        "<a href=\"https://colab.research.google.com/github/stanislavfort/dissect-git-re-basin/blob/master/git_rebasin_Stan_MLP_MNIST.ipynb\" target=\"_parent\"><img src=\"https://colab.research.google.com/assets/colab-badge.svg\" alt=\"Open In Colab\"/></a>"
      ]
    },
    {
      "cell_type": "markdown",
      "source": [
        "# Replicating the Git Re-Basin experiments by Stanislav Fort, starting from their codebase (MLP on MNIST)\n",
        " \n",
        "I got excited about the Git Re-Basin paper (https://arxiv.org/abs/2209.04836) yesterday (Sep 14 2022) and since the claims seemed pretty strong I decided to replicate the key results. I started from the codebase the authors put on GitHub (https://github.com/samuela/git-re-basin), and took the relevant bits and pieces, put them into a Colab, and write a one-click-runnable replication.\n",
        "\n",
        "**tldr: I wasn't able to replicate the key observation that the permutation applied to a network moves it to a linearly connected basin of another** \n",
        "\n",
        "I added a lot of analysis on top to make sure I knew what was going on. Some things that seem to be true that I wanted to verify: \n",
        "\n",
        "1) the permutation procedure preserves the network exactly as it was in terms of its input-ouput behavior, exactly as it should\n",
        "2) the (network + permutation)'s weight vector gets non-randomly closer to the network towards which the permutation was developed, as it should\n",
        "\n",
        "However, the key claim that after the permutation is applied the new network is now **within the same convex, linearly connected basin of the other network, I was not able to replicate**. This is unusual since I literally took bits of code from the author's codebase. If you find a problem with my replication, please let me know on Twitter (@stanislavfort) or via email.\n",
        "\n",
        "Here's the money plot:\n",
        "Explanation: I have two networks trained from init (model 1 and model 2), and the permutation from the paper applied to model 2 towards model 1. The model 2 + permutation should be in the same linearly connected basin as model 1, which would suggest a nice linear path of low loss between the aqua triangle and the red circle. However, as you can see, there is a bump! The yellow line isn't a nice connected bridge and  on top of that the loss on the weight space cut defined by the model 1, model 2 and model 2 + permutation shows clearly 3 different basins, not 2, as the key claim would suggest.![image.png](data:image/png;base64,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)"
      ],
      "metadata": {
        "id": "ncVlmmDUXD2m"
      }
    },
    {
      "cell_type": "markdown",
      "source": [
        "## Library imports"
      ],
      "metadata": {
        "id": "08-3K_10YDRI"
      }
    },
    {
      "cell_type": "code",
      "source": [
        "!pip install augmax\n",
        "# Install the newest JAXlib version.\n",
        "!pip install --upgrade -q pip jax jaxlib\n",
        "# Install Flax at head:\n",
        "!pip install --upgrade -q git+https://github.com/google/flax.git"
      ],
      "metadata": {
        "colab": {
          "base_uri": "https://localhost:8080/"
        },
        "id": "EIwcpXjn2xOV",
        "outputId": "62d9603f-d014-4600-a294-c0c2dc10aa69"
      },
      "execution_count": 1,
      "outputs": [
        {
          "output_type": "stream",
          "name": "stdout",
          "text": [
            "Looking in indexes: https://pypi.org/simple, https://us-python.pkg.dev/colab-wheels/public/simple/\n",
            "Collecting augmax\n",
            "  Downloading augmax-0.2.2-py3-none-any.whl (21 kB)\n",
            "Collecting einops>=0.3\n",
            "  Downloading einops-0.4.1-py3-none-any.whl (28 kB)\n",
            "Requirement already satisfied: jax>=0.1 in /usr/local/lib/python3.7/dist-packages (from augmax) (0.3.17)\n",
            "Requirement already satisfied: scipy>=1.5 in /usr/local/lib/python3.7/dist-packages (from jax>=0.1->augmax) (1.7.3)\n",
            "Requirement already satisfied: opt-einsum in /usr/local/lib/python3.7/dist-packages (from jax>=0.1->augmax) (3.3.0)\n",
            "Requirement already satisfied: numpy>=1.20 in /usr/local/lib/python3.7/dist-packages (from jax>=0.1->augmax) (1.21.6)\n",
            "Requirement already satisfied: etils[epath] in /usr/local/lib/python3.7/dist-packages (from jax>=0.1->augmax) (0.7.1)\n",
            "Requirement already satisfied: typing-extensions in /usr/local/lib/python3.7/dist-packages (from jax>=0.1->augmax) (4.1.1)\n",
            "Requirement already satisfied: absl-py in /usr/local/lib/python3.7/dist-packages (from jax>=0.1->augmax) (1.2.0)\n",
            "Requirement already satisfied: importlib_resources in /usr/local/lib/python3.7/dist-packages (from etils[epath]->jax>=0.1->augmax) (5.9.0)\n",
            "Requirement already satisfied: zipp in /usr/local/lib/python3.7/dist-packages (from etils[epath]->jax>=0.1->augmax) (3.8.1)\n",
            "Installing collected packages: einops, augmax\n",
            "Successfully installed augmax-0.2.2 einops-0.4.1\n",
            "\u001b[K     |████████████████████████████████| 2.0 MB 14.8 MB/s \n",
            "\u001b[?25h  Preparing metadata (setup.py) ... \u001b[?25l\u001b[?25hdone\n",
            "\u001b[2K     \u001b[90m━━━━━━━━━━━━━━━━━━━━━━━━━━━━━━━━━━━━━━━\u001b[0m \u001b[32m145.1/145.1 kB\u001b[0m \u001b[31m9.7 MB/s\u001b[0m eta \u001b[36m0:00:00\u001b[0m\n",
            "\u001b[2K     \u001b[90m━━━━━━━━━━━━━━━━━━━━━━━━━━━━━━━━━━━━━━\u001b[0m \u001b[32m235.6/235.6 kB\u001b[0m \u001b[31m25.0 MB/s\u001b[0m eta \u001b[36m0:00:00\u001b[0m\n",
            "\u001b[2K     \u001b[90m━━━━━━━━━━━━━━━━━━━━━━━━━━━━━━━━━━━━━━━━\u001b[0m \u001b[32m51.1/51.1 kB\u001b[0m \u001b[31m6.3 MB/s\u001b[0m eta \u001b[36m0:00:00\u001b[0m\n",
            "\u001b[2K     \u001b[90m━━━━━━━━━━━━━━━━━━━━━━━━━━━━━━━━━━━━━━━━\u001b[0m \u001b[32m85.3/85.3 kB\u001b[0m \u001b[31m10.4 MB/s\u001b[0m eta \u001b[36m0:00:00\u001b[0m\n",
            "\u001b[?25h  Building wheel for flax (setup.py) ... \u001b[?25l\u001b[?25hdone\n",
            "\u001b[33mWARNING: Running pip as the 'root' user can result in broken permissions and conflicting behaviour with the system package manager. It is recommended to use a virtual environment instead: https://pip.pypa.io/warnings/venv\u001b[0m\u001b[33m\n",
            "\u001b[0m"
          ]
        }
      ]
    },
    {
      "cell_type": "markdown",
      "source": [
        "## Permutation utils"
      ],
      "metadata": {
        "id": "pxFk74rKYOev"
      }
    },
    {
      "cell_type": "code",
      "source": [
        "from collections import defaultdict\n",
        "from typing import NamedTuple\n",
        "\n",
        "import jax.numpy as jnp\n",
        "from jax import random\n",
        "from scipy.optimize import linear_sum_assignment\n",
        "\n",
        "\n",
        "class PermutationSpec(NamedTuple):\n",
        "  perm_to_axes: dict\n",
        "  axes_to_perm: dict\n",
        "\n",
        "# def mlp_permutation_spec(num_hidden_layers: int) -> PermutationSpec:\n",
        "#   \"\"\"We assume that one permutation cannot appear in two axes of the same weight array.\"\"\"\n",
        "#   assert num_hidden_layers >= 1\n",
        "#   return PermutationSpec(\n",
        "#       perm_to_axes={\n",
        "#           f\"P_{i}\": [(f\"Dense_{i}/kernel\", 1), (f\"Dense_{i}/bias\", 0), (f\"Dense_{i+1}/kernel\", 0)]\n",
        "#           for i in range(num_hidden_layers)\n",
        "#       },\n",
        "#       axes_to_perm={\n",
        "#           \"Dense_0/kernel\": (None, \"P_0\"),\n",
        "#           **{f\"Dense_{i}/kernel\": (f\"P_{i-1}\", f\"P_{i}\")\n",
        "#              for i in range(1, num_hidden_layers)},\n",
        "#           **{f\"Dense_{i}/bias\": (f\"P_{i}\", )\n",
        "#              for i in range(num_hidden_layers)},\n",
        "#           f\"Dense_{num_hidden_layers}/kernel\": (f\"P_{num_hidden_layers-1}\", None),\n",
        "#           f\"Dense_{num_hidden_layers}/bias\": (None, ),\n",
        "#       })\n",
        "\n",
        "def permutation_spec_from_axes_to_perm(axes_to_perm: dict) -> PermutationSpec:\n",
        "  perm_to_axes = defaultdict(list)\n",
        "  for wk, axis_perms in axes_to_perm.items():\n",
        "    for axis, perm in enumerate(axis_perms):\n",
        "      if perm is not None:\n",
        "        perm_to_axes[perm].append((wk, axis))\n",
        "  return PermutationSpec(perm_to_axes=dict(perm_to_axes), axes_to_perm=axes_to_perm)\n",
        "\n",
        "def mlp_permutation_spec(num_hidden_layers: int) -> PermutationSpec:\n",
        "  \"\"\"We assume that one permutation cannot appear in two axes of the same weight array.\"\"\"\n",
        "  assert num_hidden_layers >= 1\n",
        "  return permutation_spec_from_axes_to_perm({\n",
        "      \"Dense_0/kernel\": (None, \"P_0\"),\n",
        "      **{f\"Dense_{i}/kernel\": (f\"P_{i-1}\", f\"P_{i}\")\n",
        "         for i in range(1, num_hidden_layers)},\n",
        "      **{f\"Dense_{i}/bias\": (f\"P_{i}\", )\n",
        "         for i in range(num_hidden_layers)},\n",
        "      f\"Dense_{num_hidden_layers}/kernel\": (f\"P_{num_hidden_layers-1}\", None),\n",
        "      f\"Dense_{num_hidden_layers}/bias\": (None, ),\n",
        "  })\n",
        "\n",
        "def vgg16_permutation_spec() -> PermutationSpec:\n",
        "  return permutation_spec_from_axes_to_perm({\n",
        "      \"Conv_0/kernel\": (None, None, None, \"P_Conv_0\"),\n",
        "      **{f\"Conv_{i}/kernel\": (None, None, f\"P_Conv_{i-1}\", f\"P_Conv_{i}\")\n",
        "         for i in range(1, 13)},\n",
        "      **{f\"Conv_{i}/bias\": (f\"P_Conv_{i}\", )\n",
        "         for i in range(13)},\n",
        "      **{f\"LayerNorm_{i}/scale\": (f\"P_Conv_{i}\", )\n",
        "         for i in range(13)},\n",
        "      **{f\"LayerNorm_{i}/bias\": (f\"P_Conv_{i}\", )\n",
        "         for i in range(13)},\n",
        "      \"Dense_0/kernel\": (\"P_Conv_12\", \"P_Dense_0\"),\n",
        "      \"Dense_0/bias\": (\"P_Dense_0\", ),\n",
        "      \"Dense_1/kernel\": (\"P_Dense_0\", \"P_Dense_1\"),\n",
        "      \"Dense_1/bias\": (\"P_Dense_1\", ),\n",
        "      \"Dense_2/kernel\": (\"P_Dense_1\", None),\n",
        "      \"Dense_2/bias\": (None, ),\n",
        "  })\n",
        "\n",
        "def resnet20_permutation_spec() -> PermutationSpec:\n",
        "  conv = lambda name, p_in, p_out: {f\"{name}/kernel\": (None, None, p_in, p_out)}\n",
        "  norm = lambda name, p: {f\"{name}/scale\": (p, ), f\"{name}/bias\": (p, )}\n",
        "  dense = lambda name, p_in, p_out: {f\"{name}/kernel\": (p_in, p_out), f\"{name}/bias\": (p_out, )}\n",
        "\n",
        "  # This is for easy blocks that use a residual connection, without any change in the number of channels.\n",
        "  easyblock = lambda name, p: {\n",
        "      **conv(f\"{name}/conv1\", p, f\"P_{name}_inner\"),\n",
        "      **norm(f\"{name}/norm1\", f\"P_{name}_inner\"),\n",
        "      **conv(f\"{name}/conv2\", f\"P_{name}_inner\", p),\n",
        "      **norm(f\"{name}/norm2\", p)\n",
        "  }\n",
        "\n",
        "  # This is for blocks that use a residual connection, but change the number of channels via a Conv.\n",
        "  shortcutblock = lambda name, p_in, p_out: {\n",
        "      **conv(f\"{name}/conv1\", p_in, f\"P_{name}_inner\"),\n",
        "      **norm(f\"{name}/norm1\", f\"P_{name}_inner\"),\n",
        "      **conv(f\"{name}/conv2\", f\"P_{name}_inner\", p_out),\n",
        "      **norm(f\"{name}/norm2\", p_out),\n",
        "      **conv(f\"{name}/shortcut/layers_0\", p_in, p_out),\n",
        "      **norm(f\"{name}/shortcut/layers_1\", p_out),\n",
        "  }\n",
        "\n",
        "  return permutation_spec_from_axes_to_perm({\n",
        "      **conv(\"conv1\", None, \"P_bg0\"),\n",
        "      **norm(\"norm1\", \"P_bg0\"),\n",
        "      #\n",
        "      **easyblock(\"blockgroups_0/blocks_0\", \"P_bg0\"),\n",
        "      **easyblock(\"blockgroups_0/blocks_1\", \"P_bg0\"),\n",
        "      **easyblock(\"blockgroups_0/blocks_2\", \"P_bg0\"),\n",
        "      #\n",
        "      **shortcutblock(\"blockgroups_1/blocks_0\", \"P_bg0\", \"P_bg1\"),\n",
        "      **easyblock(\"blockgroups_1/blocks_1\", \"P_bg1\"),\n",
        "      **easyblock(\"blockgroups_1/blocks_2\", \"P_bg1\"),\n",
        "      #\n",
        "      **shortcutblock(\"blockgroups_2/blocks_0\", \"P_bg1\", \"P_bg2\"),\n",
        "      **easyblock(\"blockgroups_2/blocks_1\", \"P_bg2\"),\n",
        "      **easyblock(\"blockgroups_2/blocks_2\", \"P_bg2\"),\n",
        "      #\n",
        "      **dense(\"dense\", \"P_bg2\", None),\n",
        "  })\n",
        "\n",
        "def get_permuted_param(ps: PermutationSpec, perm, k: str, params, except_axis=None):\n",
        "  \"\"\"Get parameter `k` from `params`, with the permutations applied.\"\"\"\n",
        "  w = params[k]\n",
        "  for axis, p in enumerate(ps.axes_to_perm[k]):\n",
        "    # Skip the axis we're trying to permute.\n",
        "    if axis == except_axis:\n",
        "      continue\n",
        "\n",
        "    # None indicates that there is no permutation relevant to that axis.\n",
        "    if p is not None:\n",
        "      w = jnp.take(w, perm[p], axis=axis)\n",
        "\n",
        "  return w\n",
        "\n",
        "def apply_permutation(ps: PermutationSpec, perm, params):\n",
        "  \"\"\"Apply a `perm` to `params`.\"\"\"\n",
        "  return {k: get_permuted_param(ps, perm, k, params) for k in params.keys()}\n",
        "\n",
        "def weight_matching(rng, ps: PermutationSpec, params_a, params_b, max_iter=100, init_perm=None):\n",
        "  \"\"\"Find a permutation of `params_b` to make them match `params_a`.\"\"\"\n",
        "  perm_sizes = {p: params_a[axes[0][0]].shape[axes[0][1]] for p, axes in ps.perm_to_axes.items()}\n",
        "\n",
        "  perm = {p: jnp.arange(n) for p, n in perm_sizes.items()} if init_perm is None else init_perm\n",
        "  perm_names = list(perm.keys())\n",
        "\n",
        "  for iteration in range(max_iter):\n",
        "    progress = False\n",
        "    for p_ix in random.permutation(rngmix(rng, iteration), len(perm_names)):\n",
        "      p = perm_names[p_ix]\n",
        "      n = perm_sizes[p]\n",
        "      A = jnp.zeros((n, n))\n",
        "      for wk, axis in ps.perm_to_axes[p]:\n",
        "        w_a = params_a[wk]\n",
        "        w_b = get_permuted_param(ps, perm, wk, params_b, except_axis=axis)\n",
        "        w_a = jnp.moveaxis(w_a, axis, 0).reshape((n, -1))\n",
        "        w_b = jnp.moveaxis(w_b, axis, 0).reshape((n, -1))\n",
        "        A += w_a @ w_b.T\n",
        "\n",
        "      ri, ci = linear_sum_assignment(A, maximize=True)\n",
        "      assert (ri == jnp.arange(len(ri))).all()\n",
        "\n",
        "      oldL = jnp.vdot(A, jnp.eye(n)[perm[p]])\n",
        "      newL = jnp.vdot(A, jnp.eye(n)[ci, :])\n",
        "      print(f\"{iteration}/{p}: {newL - oldL}\")\n",
        "      progress = progress or newL > oldL + 1e-12\n",
        "\n",
        "      perm[p] = jnp.array(ci)\n",
        "\n",
        "    if not progress:\n",
        "      break\n",
        "\n",
        "  return perm\n",
        "\n",
        "def test_weight_matching():\n",
        "  \"\"\"If we just have a single hidden layer then it should converge after just one step.\"\"\"\n",
        "  ps = mlp_permutation_spec(num_hidden_layers=1)\n",
        "  rng = random.PRNGKey(123)\n",
        "  num_hidden = 10\n",
        "  shapes = {\n",
        "      \"Dense_0/kernel\": (2, num_hidden),\n",
        "      \"Dense_0/bias\": (num_hidden, ),\n",
        "      \"Dense_1/kernel\": (num_hidden, 3),\n",
        "      \"Dense_1/bias\": (3, )\n",
        "  }\n",
        "  params_a = {k: random.normal(rngmix(rng, f\"a-{k}\"), shape) for k, shape in shapes.items()}\n",
        "  params_b = {k: random.normal(rngmix(rng, f\"b-{k}\"), shape) for k, shape in shapes.items()}\n",
        "  perm = weight_matching(rng, ps, params_a, params_b)\n",
        "  print(perm)\n",
        "\n"
      ],
      "metadata": {
        "id": "Bqev0bBvBWOw"
      },
      "execution_count": 2,
      "outputs": []
    },
    {
      "cell_type": "markdown",
      "source": [
        "## Utils"
      ],
      "metadata": {
        "id": "MRRnQciSYXVu"
      }
    },
    {
      "cell_type": "code",
      "source": [
        "import operator\n",
        "import re\n",
        "import time\n",
        "\n",
        "import jax.numpy as jnp\n",
        "from flax import traverse_util\n",
        "from flax.core import freeze, unfreeze\n",
        "from jax import random, tree_map\n",
        "from jax.tree_util import tree_reduce\n",
        "\n",
        "rngmix = lambda rng, x: random.fold_in(rng, hash(x))\n",
        "\n",
        "class RngPooper:\n",
        "  \"\"\"A stateful wrapper around stateless random.PRNGKey's.\"\"\"\n",
        "\n",
        "  def __init__(self, init_rng):\n",
        "    self.rng = init_rng\n",
        "\n",
        "  def poop(self):\n",
        "    self.rng, rng_key = random.split(self.rng)\n",
        "    return rng_key\n",
        "\n",
        "def l1prox(x, alpha):\n",
        "  return jnp.sign(x) * jnp.maximum(0, jnp.abs(x) - alpha)\n",
        "\n",
        "def flatten_params(params):\n",
        "  return {\"/\".join(k): v for k, v in traverse_util.flatten_dict(unfreeze(params)).items()}\n",
        "\n",
        "def unflatten_params(flat_params):\n",
        "  return freeze(\n",
        "      traverse_util.unflatten_dict({tuple(k.split(\"/\")): v\n",
        "                                    for k, v in flat_params.items()}))\n",
        "\n",
        "def merge_params(a, b):\n",
        "  return unflatten_params({**a, **b})\n",
        "\n",
        "def kmatch(pattern, key):\n",
        "  regex = \"^\"\n",
        "  i = 0\n",
        "  while i < len(pattern):\n",
        "    if pattern[i] == \"*\":\n",
        "      if i + 1 < len(pattern) and pattern[i + 1] == \"*\":\n",
        "        regex += \"(.*)\"\n",
        "        i += 2\n",
        "      else:\n",
        "        regex += \"([^\\/]*)\"\n",
        "        i += 1\n",
        "    else:\n",
        "      regex += pattern[i]\n",
        "      i += 1\n",
        "  regex += \"$\"\n",
        "  return re.fullmatch(regex, key)\n",
        "\n",
        "assert kmatch(\"*\", \"a\") is not None\n",
        "assert kmatch(\"*\", \"a\").group(0) == \"a\"\n",
        "assert kmatch(\"*\", \"a\").group(1) == \"a\"\n",
        "assert kmatch(\"abc\", \"def\") is None\n",
        "assert kmatch(\"abc/*/ghi\", \"abc/def/ghi\").group(1) == \"def\"\n",
        "assert kmatch(\"abc/**/jkl\", \"abc/def/ghi/jkl\").group(1) == \"def/ghi\"\n",
        "assert kmatch(\"abc/*/jkl\", \"abc/def/ghi/jkl\") is None\n",
        "assert kmatch(\"**/*\", \"abc/def/ghi/jkl\").group(1) == \"abc/def/ghi\"\n",
        "assert kmatch(\"**/*\", \"abc/def/ghi/jkl\").group(2) == \"jkl\"\n"
      ],
      "metadata": {
        "id": "186MTf_d3Tvh"
      },
      "execution_count": 3,
      "outputs": []
    },
    {
      "cell_type": "markdown",
      "source": [
        "## MLP model and dataset"
      ],
      "metadata": {
        "id": "UspSJSjzYqdl"
      }
    },
    {
      "cell_type": "code",
      "execution_count": 4,
      "metadata": {
        "id": "8py7J8FF2fTW"
      },
      "outputs": [],
      "source": [
        "\n",
        "\"\"\"Train an MLP on MNIST on one random seed. Serialize the model for\n",
        "interpolation downstream.\"\"\"\n",
        "import argparse\n",
        "\n",
        "import augmax\n",
        "import flax\n",
        "import jax\n",
        "import jax.numpy as jnp\n",
        "import numpy as np\n",
        "import optax\n",
        "import tensorflow as tf\n",
        "import tensorflow_datasets as tfds\n",
        "\n",
        "from flax import linen as nn\n",
        "from flax.training.train_state import TrainState\n",
        "from jax import jit, random, tree_map, value_and_grad, vmap\n",
        "from tqdm import tqdm\n",
        "\n",
        "# See https://github.com/tensorflow/tensorflow/issues/53831.\n",
        "\n",
        "# See https://github.com/google/jax/issues/9454.\n",
        "tf.config.set_visible_devices([], \"GPU\")\n",
        "\n",
        "activation = nn.relu\n",
        "\n",
        "class MLPModel(nn.Module):\n",
        "\n",
        "  @nn.compact\n",
        "  def __call__(self, x):\n",
        "    x = jnp.reshape(x, (-1, 28 * 28))\n",
        "    x = nn.Dense(512)(x)\n",
        "    x = activation(x)\n",
        "    x = nn.Dense(512)(x)\n",
        "    x = activation(x)\n",
        "    x = nn.Dense(512)(x)\n",
        "    x = activation(x)\n",
        "    x = nn.Dense(10)(x)\n",
        "    x = nn.log_softmax(x)\n",
        "    return x\n",
        "\n",
        "def make_stuff(model):\n",
        "  normalize_transform = augmax.ByteToFloat()\n",
        "\n",
        "  @jit\n",
        "  def batch_eval(params, images_u8, labels):\n",
        "    images_f32 = vmap(normalize_transform)(None, images_u8)\n",
        "    logits = model.apply({\"params\": params}, images_f32)\n",
        "    y_onehot = jax.nn.one_hot(labels, 10)\n",
        "    loss = jnp.mean(optax.softmax_cross_entropy(logits=logits, labels=y_onehot))\n",
        "    num_correct = jnp.sum(jnp.argmax(logits, axis=-1) == jnp.argmax(y_onehot, axis=-1))\n",
        "    return loss, {\"num_correct\": num_correct}\n",
        "\n",
        "  # Stan's addition for saving predictions of the model to see how they differ\n",
        "  @jit\n",
        "  def batch_predictions(params, images_u8, labels):\n",
        "    images_f32 = vmap(normalize_transform)(None, images_u8)\n",
        "    logits = model.apply({\"params\": params}, images_f32)\n",
        "    y_onehot = jax.nn.one_hot(labels, 10)\n",
        "    loss = jnp.mean(optax.softmax_cross_entropy(logits=logits, labels=y_onehot))\n",
        "    num_correct = jnp.sum(jnp.argmax(logits, axis=-1) == jnp.argmax(y_onehot, axis=-1))\n",
        "    return loss, logits, y_onehot, {\"num_correct\": num_correct}\n",
        "\n",
        "  @jit\n",
        "  def step(train_state, images_f32, labels):\n",
        "    (l, info), g = value_and_grad(batch_eval, has_aux=True)(train_state.params, images_f32, labels)\n",
        "    return train_state.apply_gradients(grads=g), {\"batch_loss\": l, **info}\n",
        "\n",
        "  def dataset_loss_and_accuracy(params, dataset, batch_size: int):\n",
        "    num_examples = dataset[\"images_u8\"].shape[0]\n",
        "    assert num_examples % batch_size == 0\n",
        "    num_batches = num_examples // batch_size\n",
        "    batch_ix = jnp.arange(num_examples).reshape((num_batches, batch_size))\n",
        "    # Can't use vmap or run in a single batch since that overloads GPU memory.\n",
        "    losses, infos = zip(*[\n",
        "        batch_eval(\n",
        "            params,\n",
        "            dataset[\"images_u8\"][batch_ix[i, :], :, :, :],\n",
        "            dataset[\"labels\"][batch_ix[i, :]],\n",
        "        ) for i in range(num_batches)\n",
        "    ])\n",
        "    return (\n",
        "        jnp.sum(batch_size * jnp.array(losses)) / num_examples,\n",
        "        sum(x[\"num_correct\"] for x in infos) / num_examples,\n",
        "    )\n",
        "\n",
        "  # Stan's addition for saving predictions of the model to see how they differ\n",
        "  def dataset_predictions(params, dataset, batch_size: int):\n",
        "    num_examples = dataset[\"images_u8\"].shape[0]\n",
        "    assert num_examples % batch_size == 0\n",
        "    num_batches = num_examples // batch_size\n",
        "    batch_ix = jnp.arange(num_examples).reshape((num_batches, batch_size))\n",
        "    # Can't use vmap or run in a single batch since that overloads GPU memory.\n",
        "    losses, logits, y_onehots, infos = zip(*[\n",
        "        batch_predictions(\n",
        "            params,\n",
        "            dataset[\"images_u8\"][batch_ix[i, :], :, :, :],\n",
        "            dataset[\"labels\"][batch_ix[i, :]],\n",
        "        ) for i in range(num_batches)\n",
        "    ])\n",
        "    return (\n",
        "        jnp.sum(batch_size * jnp.array(losses)) / num_examples,\n",
        "        sum(x[\"num_correct\"] for x in infos) / num_examples,\n",
        "        logits,\n",
        "        y_onehots,\n",
        "    )\n",
        "\n",
        "  return {\n",
        "      \"normalize_transform\": normalize_transform,\n",
        "      \"batch_eval\": batch_eval,\n",
        "      \"step\": step,\n",
        "      \"dataset_loss_and_accuracy\": dataset_loss_and_accuracy,\n",
        "      \"dataset_predictions\": dataset_predictions,\n",
        "  }\n",
        "\n",
        "def load_datasets():\n",
        "  \"\"\"Return the training and test datasets, unbatched.\"\"\"\n",
        "  # See https://www.tensorflow.org/datasets/overview#as_batched_tftensor_batch_size-1.\n",
        "  train_ds_images_u8, train_ds_labels = tfds.as_numpy(\n",
        "      tfds.load(\"mnist\", split=\"train\", batch_size=-1, as_supervised=True))\n",
        "  test_ds_images_u8, test_ds_labels = tfds.as_numpy(\n",
        "      tfds.load(\"mnist\", split=\"test\", batch_size=-1, as_supervised=True))\n",
        "  train_ds = {\"images_u8\": train_ds_images_u8, \"labels\": train_ds_labels}\n",
        "  test_ds = {\"images_u8\": test_ds_images_u8, \"labels\": test_ds_labels}\n",
        "  return train_ds, test_ds\n",
        "\n"
      ]
    },
    {
      "cell_type": "markdown",
      "source": [
        "## Runs details"
      ],
      "metadata": {
        "id": "Y7xeM-sdZAp6"
      }
    },
    {
      "cell_type": "code",
      "source": [
        "num_epochs = 20\n",
        "batch_size = 500\n",
        "seed = 12421\n",
        "config_optimizer = \"sgd\" #\"adam\"\n",
        "learning_rate = 1e-3\n",
        "\n",
        "runs_to_collect = 2 #Stan's new stuff\n",
        "\n",
        "rng = random.PRNGKey(seed)"
      ],
      "metadata": {
        "id": "2Uc_f5roM8j1"
      },
      "execution_count": 5,
      "outputs": []
    },
    {
      "cell_type": "code",
      "source": [
        "# storing model params after training\n",
        "flattened_models_list = []\n",
        "\n",
        "for run_i in range(runs_to_collect):\n",
        "\n",
        "  rng = random.PRNGKey(seed+run_i) # chaning the seed each run \n",
        "  rngmix = lambda rng, x: random.fold_in(rng, hash(x))\n",
        "\n",
        "  model = MLPModel()\n",
        "  stuff = make_stuff(model)\n",
        "\n",
        "  print(\"--------------------------\")\n",
        "  print(f\"Starting run {run_i}\")\n",
        "\n",
        "\n",
        "  train_ds, test_ds = load_datasets()\n",
        "  print(\"train_ds labels hash\", hash(np.array(train_ds[\"labels\"]).tobytes()))\n",
        "  print(\"test_ds labels hash\", hash(np.array(test_ds[\"labels\"]).tobytes()))\n",
        "\n",
        "  num_train_examples = train_ds[\"images_u8\"].shape[0]\n",
        "  num_test_examples = test_ds[\"images_u8\"].shape[0]\n",
        "  assert num_train_examples % batch_size == 0\n",
        "  print(\"num_train_examples\", num_train_examples)\n",
        "  print(\"num_test_examples\", num_test_examples)\n",
        "\n",
        "  if config_optimizer == \"sgd\":\n",
        "    # See runs:\n",
        "    # * https://wandb.ai/skainswo/playing-the-lottery/runs/3blb4uhm\n",
        "    # * https://wandb.ai/skainswo/playing-the-lottery/runs/174j7umt\n",
        "    # * https://wandb.ai/skainswo/playing-the-lottery/runs/td02y8gg\n",
        "    lr_schedule = optax.warmup_cosine_decay_schedule(\n",
        "        init_value=1e-6,\n",
        "        peak_value=learning_rate,\n",
        "        warmup_steps=10,\n",
        "        # Confusingly, `decay_steps` is actually the total number of steps,\n",
        "        # including the warmup.\n",
        "        decay_steps=num_epochs * (num_train_examples // batch_size),\n",
        "    )\n",
        "    tx = optax.sgd(lr_schedule, momentum=0.9)\n",
        "  elif config_optimizer == \"adam\":\n",
        "    # See runs:\n",
        "    # - https://wandb.ai/skainswo/playing-the-lottery/runs/1b1gztfx (trim-fire-575)\n",
        "    # - https://wandb.ai/skainswo/playing-the-lottery/runs/1hrmw7wr (wild-dream-576)\n",
        "    tx = optax.adam(learning_rate)\n",
        "  else:\n",
        "    # See runs:\n",
        "    # - https://wandb.ai/skainswo/playing-the-lottery/runs/k4luj7er (faithful-spaceship-579)\n",
        "    # - https://wandb.ai/skainswo/playing-the-lottery/runs/3ru7xy8c (sage-forest-580)\n",
        "    tx = optax.adamw(learning_rate, weight_decay=1e-4)\n",
        "\n",
        "  train_state = TrainState.create(\n",
        "      apply_fn=model.apply,\n",
        "      params=model.init(rngmix(rng, f\"init{run_i}\"), jnp.zeros((1, 28, 28, 1)))[\"params\"],\n",
        "      tx=tx,\n",
        "  )\n",
        "\n",
        "  for epoch in tqdm(range(num_epochs)):\n",
        "    infos = []\n",
        "  \n",
        "    batch_ix = random.permutation(rngmix(rng, f\"epoch-{epoch}\"), num_train_examples).reshape(\n",
        "        (-1, batch_size))\n",
        "    for i in range(batch_ix.shape[0]):\n",
        "      p = batch_ix[i, :]\n",
        "      images_u8 = train_ds[\"images_u8\"][p, :, :, :]\n",
        "      labels = train_ds[\"labels\"][p]\n",
        "      train_state, info = stuff[\"step\"](train_state, images_u8, labels)\n",
        "    \n",
        "\n",
        "    train_loss = sum(batch_size * x[\"batch_loss\"] for x in infos) / num_train_examples\n",
        "    train_accuracy = sum(x[\"num_correct\"] for x in infos) / num_train_examples\n",
        "\n",
        "    \n",
        "    actest_loss, test_accuracy = stuff[\"dataset_loss_and_accuracy\"](train_state.params, test_ds,\n",
        "                                                                    10_000)\n",
        "\n",
        "    params_l2 = tree_map(lambda x: jnp.sqrt(jnp.sum(x**2)),\n",
        "                          flatten_params({\"params_l2\": train_state.params}))\n",
        "    \n",
        "    \n",
        "  # summary\n",
        "  print(\"-----------------\")\n",
        "  print(f\"Run {run_i} DONE!\")\n",
        "  test_loss, test_accuracy = stuff[\"dataset_loss_and_accuracy\"](train_state.params, test_ds,\n",
        "                                                                10_000)\n",
        "  train_loss, train_accuracy = stuff[\"dataset_loss_and_accuracy\"](train_state.params, train_ds,\n",
        "                                                                60_000)\n",
        "  print(f\"Run={run_i} test loss={test_loss} test accuracy={test_accuracy} train loss={train_loss} train accuracy={train_accuracy}\")\n",
        "\n",
        "  flattened_models_list.append(flatten_params(train_state.params))\n"
      ],
      "metadata": {
        "colab": {
          "base_uri": "https://localhost:8080/",
          "height": 461,
          "referenced_widgets": [
            "f6fee529aac44f8f9b87f904061f3ab7",
            "e1bc7bb3715f44ac952ea88314401307",
            "fc34d6ba192f4aeeb25f48e2eac3a9c6",
            "db34a007ef304d2db8b49cda3eb9b5be",
            "ff6d50266a4e418aab70bb5467373297",
            "413932aec2f94b47ace5dbc6e71d3092",
            "30b55b615239472694f82e3441cd7f4e",
            "85509c9eacb9438281d15e746a793bfe",
            "fcc4880491ac4a54b686943802bd179d",
            "be2801cf71584a4fa547ef1bb03a619b",
            "d6c49875a0eb40f5a2ebd464213adeed"
          ]
        },
        "id": "zBizSu-K2pjv",
        "outputId": "3d7f0b39-4c28-498b-ad29-c2f54c1452ab"
      },
      "execution_count": 6,
      "outputs": [
        {
          "output_type": "stream",
          "name": "stdout",
          "text": [
            "--------------------------\n",
            "Starting run 0\n",
            "\u001b[1mDownloading and preparing dataset 11.06 MiB (download: 11.06 MiB, generated: 21.00 MiB, total: 32.06 MiB) to ~/tensorflow_datasets/mnist/3.0.1...\u001b[0m\n"
          ]
        },
        {
          "output_type": "display_data",
          "data": {
            "text/plain": [
              "Dl Completed...:   0%|          | 0/4 [00:00<?, ? file/s]"
            ],
            "application/vnd.jupyter.widget-view+json": {
              "version_major": 2,
              "version_minor": 0,
              "model_id": "f6fee529aac44f8f9b87f904061f3ab7"
            }
          },
          "metadata": {}
        },
        {
          "output_type": "stream",
          "name": "stdout",
          "text": [
            "\u001b[1mDataset mnist downloaded and prepared to ~/tensorflow_datasets/mnist/3.0.1. Subsequent calls will reuse this data.\u001b[0m\n",
            "train_ds labels hash 1633421567493271265\n",
            "test_ds labels hash -755657542732042722\n",
            "num_train_examples 60000\n",
            "num_test_examples 10000\n"
          ]
        },
        {
          "output_type": "stream",
          "name": "stderr",
          "text": [
            "100%|██████████| 20/20 [00:10<00:00,  1.82it/s]\n"
          ]
        },
        {
          "output_type": "stream",
          "name": "stdout",
          "text": [
            "-----------------\n",
            "Run 0 DONE!\n",
            "Run=0 test loss=0.33368879556655884 test accuracy=0.905500054359436 train loss=0.3504005968570709 train accuracy=0.9014166593551636\n",
            "--------------------------\n",
            "Starting run 1\n",
            "train_ds labels hash 1633421567493271265\n",
            "test_ds labels hash -755657542732042722\n",
            "num_train_examples 60000\n",
            "num_test_examples 10000\n"
          ]
        },
        {
          "output_type": "stream",
          "name": "stderr",
          "text": [
            "100%|██████████| 20/20 [00:05<00:00,  3.49it/s]\n"
          ]
        },
        {
          "output_type": "stream",
          "name": "stdout",
          "text": [
            "-----------------\n",
            "Run 1 DONE!\n",
            "Run=1 test loss=0.3327438533306122 test accuracy=0.9066000580787659 train loss=0.3479721248149872 train accuracy=0.9022833704948425\n"
          ]
        }
      ]
    },
    {
      "cell_type": "code",
      "source": [
        "# flattening params\n",
        "assert len(flattened_models_list) >= 2\n",
        "flattened_model1 = flattened_models_list[0]\n",
        "flattened_model2 = flattened_models_list[1]"
      ],
      "metadata": {
        "id": "vYDeIaVAbDQp"
      },
      "execution_count": 7,
      "outputs": []
    },
    {
      "cell_type": "markdown",
      "source": [
        "## Permuting the model"
      ],
      "metadata": {
        "id": "kynTrJ-VbNOY"
      }
    },
    {
      "cell_type": "code",
      "source": [
        "permutation_spec = mlp_permutation_spec(3)\n",
        "final_permutation = weight_matching(random.PRNGKey(seed), permutation_spec,\n",
        "                                    flattened_model1, flattened_model2)"
      ],
      "metadata": {
        "colab": {
          "base_uri": "https://localhost:8080/"
        },
        "id": "IkP-ryVUBDbC",
        "outputId": "2779dc9d-fba0-478c-c899-3395a4fe4c49"
      },
      "execution_count": 8,
      "outputs": [
        {
          "output_type": "stream",
          "name": "stdout",
          "text": [
            "0/P_0: 88.4608154296875\n",
            "0/P_1: 43.10193634033203\n",
            "0/P_2: 23.00216293334961\n",
            "1/P_0: 9.411689758300781\n",
            "1/P_2: 0.0\n",
            "1/P_1: 0.8050079345703125\n",
            "2/P_2: 2.91168212890625\n",
            "2/P_0: 1.4564437866210938\n",
            "2/P_1: 0.7252960205078125\n",
            "3/P_0: 0.8473968505859375\n",
            "3/P_1: 0.3138885498046875\n",
            "3/P_2: 2.54754638671875\n",
            "4/P_0: 0.5289993286132812\n",
            "4/P_1: 0.0862274169921875\n",
            "4/P_2: 0.4234771728515625\n",
            "5/P_1: 0.0751190185546875\n",
            "5/P_2: 0.40997314453125\n",
            "5/P_0: 0.23331451416015625\n",
            "6/P_1: 0.072296142578125\n",
            "6/P_2: 0.47772979736328125\n",
            "6/P_0: 0.16867828369140625\n",
            "7/P_2: 0.0\n",
            "7/P_1: 0.0354766845703125\n",
            "7/P_0: 0.1947174072265625\n",
            "8/P_1: 0.013946533203125\n",
            "8/P_0: 0.0390167236328125\n",
            "8/P_2: 0.542694091796875\n",
            "9/P_0: 0.0\n",
            "9/P_1: 0.003204345703125\n",
            "9/P_2: 0.1214599609375\n",
            "10/P_2: 0.0\n",
            "10/P_0: 0.035491943359375\n",
            "10/P_1: 0.0767364501953125\n",
            "11/P_0: 0.1180877685546875\n",
            "11/P_2: 0.20182037353515625\n",
            "11/P_1: 0.0076141357421875\n",
            "12/P_0: 0.09759521484375\n",
            "12/P_1: 0.002197265625\n",
            "12/P_2: 0.07088470458984375\n",
            "13/P_2: 0.0\n",
            "13/P_1: 0.0\n",
            "13/P_0: 0.0886383056640625\n",
            "14/P_0: 0.0\n",
            "14/P_2: 0.0\n",
            "14/P_1: 0.0\n"
          ]
        }
      ]
    },
    {
      "cell_type": "code",
      "source": [
        "# applying the permutation to the second model\n",
        "flattened_model1_permuted = unflatten_params(\n",
        "        apply_permutation(permutation_spec, final_permutation, flattened_model1)\n",
        "        )\n",
        "flattened_model2_permuted = unflatten_params(\n",
        "        apply_permutation(permutation_spec, final_permutation, flattened_model2)\n",
        "        )"
      ],
      "metadata": {
        "id": "_jMuWKFBBGy1"
      },
      "execution_count": 9,
      "outputs": []
    },
    {
      "cell_type": "markdown",
      "source": [
        "## Performance verification"
      ],
      "metadata": {
        "id": "OJCgHKhCbnlO"
      }
    },
    {
      "cell_type": "markdown",
      "source": [
        "### Model 1"
      ],
      "metadata": {
        "id": "4ayKKHGlbrMN"
      }
    },
    {
      "cell_type": "code",
      "source": [
        "test_loss, test_accuracy = stuff[\"dataset_loss_and_accuracy\"](unflatten_params(flattened_model1), test_ds,\n",
        "                                                                  10_000)\n",
        "train_loss, train_accuracy = stuff[\"dataset_loss_and_accuracy\"](unflatten_params(flattened_model1), train_ds,\n",
        "                                                                  60_000)\n",
        "print(\"Model 1\")\n",
        "print(f\"train_loss={train_loss} train_accuracy={train_accuracy}\")\n",
        "print(f\"test_loss={test_loss} test_accuracy={test_accuracy}\")"
      ],
      "metadata": {
        "colab": {
          "base_uri": "https://localhost:8080/"
        },
        "id": "1LWHcfq5DVnC",
        "outputId": "f693c5f2-ab8b-49a0-9706-a502e3da5b33"
      },
      "execution_count": 10,
      "outputs": [
        {
          "output_type": "stream",
          "name": "stdout",
          "text": [
            "Model 1\n",
            "train_loss=0.3504005968570709 train_accuracy=0.9014166593551636\n",
            "test_loss=0.33368879556655884 test_accuracy=0.905500054359436\n"
          ]
        }
      ]
    },
    {
      "cell_type": "markdown",
      "source": [
        "### Model 2"
      ],
      "metadata": {
        "id": "eRaQ3-Zdb-k1"
      }
    },
    {
      "cell_type": "code",
      "source": [
        "test_loss, test_accuracy = stuff[\"dataset_loss_and_accuracy\"](unflatten_params(flattened_model2), test_ds,\n",
        "                                                                  10_000)\n",
        "train_loss, train_accuracy = stuff[\"dataset_loss_and_accuracy\"](unflatten_params(flattened_model2), train_ds,\n",
        "                                                                  60_000)\n",
        "print(\"Model 2\")\n",
        "print(f\"train_loss={train_loss} train_accuracy={train_accuracy}\")\n",
        "print(f\"test_loss={test_loss} test_accuracy={test_accuracy}\")"
      ],
      "metadata": {
        "colab": {
          "base_uri": "https://localhost:8080/"
        },
        "id": "hvHBV5MhBt7z",
        "outputId": "805cf429-2916-4202-a7d4-26ee7cb6a446"
      },
      "execution_count": 11,
      "outputs": [
        {
          "output_type": "stream",
          "name": "stdout",
          "text": [
            "Model 2\n",
            "train_loss=0.3479721248149872 train_accuracy=0.9022833704948425\n",
            "test_loss=0.3327438533306122 test_accuracy=0.9066000580787659\n"
          ]
        }
      ]
    },
    {
      "cell_type": "markdown",
      "source": [
        "### Model 1 with permutation"
      ],
      "metadata": {
        "id": "xigRsStYeAsN"
      }
    },
    {
      "cell_type": "code",
      "source": [
        "test_loss, test_accuracy = stuff[\"dataset_loss_and_accuracy\"](unflatten_params(flattened_model1_permuted), test_ds,\n",
        "                                                                  10_000)\n",
        "train_loss, train_accuracy = stuff[\"dataset_loss_and_accuracy\"](unflatten_params(flattened_model1_permuted), train_ds,\n",
        "                                                                  60_000)\n",
        "print(\"Model 1 with permutation\")\n",
        "print(f\"train_loss={train_loss} train_accuracy={train_accuracy}\")\n",
        "print(f\"test_loss={test_loss} test_accuracy={test_accuracy}\")"
      ],
      "metadata": {
        "colab": {
          "base_uri": "https://localhost:8080/"
        },
        "id": "EB2laCOweDvX",
        "outputId": "036ed8f1-7475-45b4-8e01-38b3fb337252"
      },
      "execution_count": 12,
      "outputs": [
        {
          "output_type": "stream",
          "name": "stdout",
          "text": [
            "Model 1 with permutation\n",
            "train_loss=0.3504006266593933 train_accuracy=0.9014166593551636\n",
            "test_loss=0.33368879556655884 test_accuracy=0.905500054359436\n"
          ]
        }
      ]
    },
    {
      "cell_type": "markdown",
      "source": [
        "### Model 2 with permutation"
      ],
      "metadata": {
        "id": "RRcbDw4ocCsw"
      }
    },
    {
      "cell_type": "code",
      "source": [
        "test_loss, test_accuracy = stuff[\"dataset_loss_and_accuracy\"](unflatten_params(flattened_model2_permuted), test_ds,\n",
        "                                                                  10_000)\n",
        "train_loss, train_accuracy = stuff[\"dataset_loss_and_accuracy\"](unflatten_params(flattened_model2_permuted), train_ds,\n",
        "                                                                  60_000)\n",
        "print(\"Model 2 with permutation\")\n",
        "print(f\"train_loss={train_loss} train_accuracy={train_accuracy}\")\n",
        "print(f\"test_loss={test_loss} test_accuracy={test_accuracy}\")"
      ],
      "metadata": {
        "colab": {
          "base_uri": "https://localhost:8080/"
        },
        "id": "O7Qny9mvDW_D",
        "outputId": "b5acbcd0-af55-42d6-a05a-8bb29e4b2d88"
      },
      "execution_count": 13,
      "outputs": [
        {
          "output_type": "stream",
          "name": "stdout",
          "text": [
            "Model 2 with permutation\n",
            "train_loss=0.3479721248149872 train_accuracy=0.9022833704948425\n",
            "test_loss=0.3327438533306122 test_accuracy=0.9066000580787659\n"
          ]
        }
      ]
    },
    {
      "cell_type": "markdown",
      "source": [
        "## Weight vector analysis"
      ],
      "metadata": {
        "id": "DEnczZuEeKbv"
      }
    },
    {
      "cell_type": "code",
      "source": [
        "flattened_model1_permuted_flat = flatten_params(flattened_model1_permuted)\n",
        "flattened_model2_permuted_flat = flatten_params(flattened_model2_permuted)"
      ],
      "metadata": {
        "id": "VMbbA5UPEXfk"
      },
      "execution_count": 14,
      "outputs": []
    },
    {
      "cell_type": "code",
      "source": [
        "# all in long vectors\n",
        "keys = flattened_model1.keys()\n",
        "\n",
        "v1 = jnp.concatenate([flattened_model1[key].reshape([-1]) for key in keys],axis=0)\n",
        "v2 = jnp.concatenate([flattened_model2[key].reshape([-1]) for key in keys],axis=0)\n",
        "v1_perm = jnp.concatenate([flattened_model1_permuted_flat[key].reshape([-1]) for key in keys],axis=0)\n",
        "v2_perm = jnp.concatenate([flattened_model2_permuted_flat[key].reshape([-1]) for key in keys],axis=0)"
      ],
      "metadata": {
        "id": "KWnv1-pfCM-w"
      },
      "execution_count": 15,
      "outputs": []
    },
    {
      "cell_type": "code",
      "source": [
        "vectors_to_show = [\n",
        "    (\"model 1\", v1),\n",
        "    (\"model 2\", v2),\n",
        "    (\"model 1 + perms\", v1_perm),\n",
        "    (\"model 2 + perms\", v2_perm), \n",
        "]\n",
        "\n",
        "for vector_str, vector in vectors_to_show:\n",
        "  print(f\"{vector_str} length**2={(jnp.sum(vector**2))}\")\n",
        "\n",
        "# the permutation should preserve the length"
      ],
      "metadata": {
        "colab": {
          "base_uri": "https://localhost:8080/"
        },
        "id": "p9dd2lPbEMRA",
        "outputId": "6529de42-c575-4045-89b2-d2caa77bc84d"
      },
      "execution_count": 16,
      "outputs": [
        {
          "output_type": "stream",
          "name": "stdout",
          "text": [
            "model 1 length**2=1571.5908203125\n",
            "model 2 length**2=1576.0863037109375\n",
            "model 1 + perms length**2=1571.5908203125\n",
            "model 2 + perms length**2=1576.0863037109375\n"
          ]
        }
      ]
    },
    {
      "cell_type": "code",
      "source": [
        "coses_grid = np.zeros((len(vectors_to_show),len(vectors_to_show)))\n",
        "for i,(vector_str1, vector1) in enumerate(vectors_to_show):\n",
        "  for j,(vector_str2, vector2) in enumerate(vectors_to_show):\n",
        "    cos_now = jnp.sum(vector1*vector2)/jnp.sqrt(jnp.sum(vector1**2))/jnp.sqrt(jnp.sum(vector2**2))\n",
        "    print(f\"cos({vector_str1},{vector_str2})={cos_now}\")\n",
        "    coses_grid[i,j] = cos_now"
      ],
      "metadata": {
        "colab": {
          "base_uri": "https://localhost:8080/"
        },
        "id": "P4m3dP6-EkbX",
        "outputId": "de4875e6-61f3-463e-ceba-c3d14a9e4e32"
      },
      "execution_count": 17,
      "outputs": [
        {
          "output_type": "stream",
          "name": "stdout",
          "text": [
            "cos(model 1,model 1)=1.0\n",
            "cos(model 1,model 2)=-0.00010640504478942603\n",
            "cos(model 1,model 1 + perms)=0.006295676808804274\n",
            "cos(model 1,model 2 + perms)=0.11280826479196548\n",
            "cos(model 2,model 1)=-0.00010640505206538364\n",
            "cos(model 2,model 2)=1.0000001192092896\n",
            "cos(model 2,model 1 + perms)=0.002893950557336211\n",
            "cos(model 2,model 2 + perms)=0.0044810231775045395\n",
            "cos(model 1 + perms,model 1)=0.006295676808804274\n",
            "cos(model 1 + perms,model 2)=0.002893950557336211\n",
            "cos(model 1 + perms,model 1 + perms)=1.0\n",
            "cos(model 1 + perms,model 2 + perms)=-0.0001064046737155877\n",
            "cos(model 2 + perms,model 1)=0.11280825734138489\n",
            "cos(model 2 + perms,model 2)=0.0044810231775045395\n",
            "cos(model 2 + perms,model 1 + perms)=-0.0001064046737155877\n",
            "cos(model 2 + perms,model 2 + perms)=1.0000001192092896\n"
          ]
        }
      ]
    },
    {
      "cell_type": "code",
      "source": [
        "import matplotlib.pyplot as plt\n",
        "\n",
        "fig = plt.figure(figsize = (5,4),dpi=75)\n",
        "plt.title(\"Log of cos between weights\\nRed=parallel, blue=ortho\",fontsize=14)\n",
        "fig.patch.set_facecolor('white')\n",
        "plt.imshow(np.log(np.abs(coses_grid)),cmap=plt.cm.bwr,origin=\"lower\")\n",
        "plt.xticks(range(len(vectors_to_show)), [x[0] for x in vectors_to_show],rotation = 90,fontsize=14)\n",
        "plt.yticks(range(len(vectors_to_show)), [x[0] for x in vectors_to_show],fontsize=14)\n",
        "plt.colorbar()\n",
        "plt.show()\n"
      ],
      "metadata": {
        "colab": {
          "base_uri": "https://localhost:8080/",
          "height": 428
        },
        "id": "MlyGW2Mgf8J6",
        "outputId": "2640dc27-b7be-44be-e0ee-9410af884074"
      },
      "execution_count": 18,
      "outputs": [
        {
          "output_type": "display_data",
          "data": {
            "text/plain": [
              "<Figure size 375x300 with 2 Axes>"
            ],
            "image/png": "[encoded data removed]"
          },
          "metadata": {}
        }
      ]
    },
    {
      "cell_type": "markdown",
      "source": [
        "## Linear interpolations of weights = test for linear mode connectivity"
      ],
      "metadata": {
        "id": "rQnvPmWlhbgy"
      }
    },
    {
      "cell_type": "code",
      "source": [
        "def get_linear_combination(factor1,vector1,factor2,vector2):\n",
        "  return dict(\n",
        "      [(key,factor1*vector1[key]+factor2*vector2[key]) for key in vector1.keys()]\n",
        "  )"
      ],
      "metadata": {
        "id": "O4WSdg2uEvEO"
      },
      "execution_count": 19,
      "outputs": []
    },
    {
      "cell_type": "markdown",
      "source": [
        "### Model 1 -> Model 2"
      ],
      "metadata": {
        "id": "AhKPabjyyLcN"
      }
    },
    {
      "cell_type": "code",
      "source": [
        "ts = np.linspace(0.0,1.0,10)\n",
        "\n",
        "start_vector = flattened_model1\n",
        "stop_vector = flattened_model2\n",
        "name = \"Model 1 -> Model 2\"\n",
        "\n",
        "test_losses_list = []\n",
        "test_accs_list = []\n",
        "train_losses_list = []\n",
        "train_accs_list = []\n",
        "\n",
        "for i,t in enumerate(ts):\n",
        "  new_params = get_linear_combination(\n",
        "      (1.0-t), start_vector, t, stop_vector\n",
        "  )\n",
        "  test_loss, test_accuracy = stuff[\"dataset_loss_and_accuracy\"](unflatten_params(new_params), test_ds,\n",
        "                                                                  10_000)\n",
        "  test_losses_list.append(test_loss)\n",
        "  test_accs_list.append(test_accuracy)\n",
        "\n",
        "  train_loss, train_accuracy = stuff[\"dataset_loss_and_accuracy\"](unflatten_params(new_params), train_ds,\n",
        "                                                                  60_000)\n",
        "  train_losses_list.append(train_loss)\n",
        "  train_accs_list.append(train_accuracy)\n",
        "\n",
        "  print(i,t,test_loss)\n",
        "\n",
        "plt.figure(figsize=(6,5),dpi=75)\n",
        "plt.gca().patch.set_facecolor('white')\n",
        "plt.title(f\"Linear weight interpolation\\n{name}\",fontsize=16)\n",
        "plt.plot(ts,train_losses_list,label=\"train\",marker=\"o\",color=\"crimson\",linewidth=2)\n",
        "plt.plot(ts,test_losses_list,label=\"test\",marker=\"o\",color=\"navy\",linewidth=2)\n",
        "plt.xlabel(\"Interpolation coeff\",fontsize=16)\n",
        "plt.ylabel(\"Loss\",fontsize=16)\n",
        "plt.xticks(fontsize=16)\n",
        "plt.yticks(fontsize=16)\n",
        "plt.legend(fontsize=16)\n",
        "plt.show()"
      ],
      "metadata": {
        "colab": {
          "base_uri": "https://localhost:8080/",
          "height": 581
        },
        "id": "OrlGik4SFbQZ",
        "outputId": "9940208d-a087-42cf-fd18-27ce724a4e1f"
      },
      "execution_count": 20,
      "outputs": [
        {
          "output_type": "stream",
          "name": "stdout",
          "text": [
            "0 0.0 0.3336888\n",
            "1 0.1111111111111111 0.4659357\n",
            "2 0.2222222222222222 0.8148016\n",
            "3 0.3333333333333333 1.3258684\n",
            "4 0.4444444444444444 1.6946522\n",
            "5 0.5555555555555556 1.6733446\n",
            "6 0.6666666666666666 1.2906737\n",
            "7 0.7777777777777777 0.7944396\n",
            "8 0.8888888888888888 0.4600758\n",
            "9 1.0 0.33274385\n"
          ]
        },
        {
          "output_type": "display_data",
          "data": {
            "text/plain": [
              "<Figure size 450x375 with 1 Axes>"
            ],
            "image/png": "[encoded data removed]"
          },
          "metadata": {
            "needs_background": "light"
          }
        }
      ]
    },
    {
      "cell_type": "markdown",
      "source": [
        "### Model 1 -> Model 1 + permutations"
      ],
      "metadata": {
        "id": "n3BA6E5PzkeK"
      }
    },
    {
      "cell_type": "code",
      "source": [
        "ts = np.linspace(0.0,1.0,10)\n",
        "\n",
        "start_vector = flattened_model1\n",
        "stop_vector = flattened_model2_permuted_flat\n",
        "name = \"Model 1 -> (Model 2 + permutations)\"\n",
        "\n",
        "test_losses_list = []\n",
        "test_accs_list = []\n",
        "train_losses_list = []\n",
        "train_accs_list = []\n",
        "\n",
        "for i,t in enumerate(ts):\n",
        "  new_params = get_linear_combination(\n",
        "      (1.0-t), start_vector, t, stop_vector\n",
        "  )\n",
        "  test_loss, test_accuracy = stuff[\"dataset_loss_and_accuracy\"](unflatten_params(new_params), test_ds,\n",
        "                                                                  10_000)\n",
        "  test_losses_list.append(test_loss)\n",
        "  test_accs_list.append(test_accuracy)\n",
        "\n",
        "  train_loss, train_accuracy = stuff[\"dataset_loss_and_accuracy\"](unflatten_params(new_params), train_ds,\n",
        "                                                                  60_000)\n",
        "  train_losses_list.append(train_loss)\n",
        "  train_accs_list.append(train_accuracy)\n",
        "\n",
        "  print(i,t,test_loss)\n",
        "\n",
        "fig = plt.figure(figsize=(6,5),dpi=75)\n",
        "fig.patch.set_facecolor('white')\n",
        "plt.title(f\"Linear weight interpolation\\n{name}\",fontsize=16)\n",
        "plt.plot(ts,train_losses_list,label=\"train\",marker=\"o\",color=\"crimson\",linewidth=2)\n",
        "plt.plot(ts,test_losses_list,label=\"test\",marker=\"o\",color=\"navy\",linewidth=2)\n",
        "plt.xlabel(\"Interpolation coeff\",fontsize=16)\n",
        "plt.ylabel(\"Loss\",fontsize=16)\n",
        "plt.xticks(fontsize=16)\n",
        "plt.yticks(fontsize=16)\n",
        "plt.legend(fontsize=16)\n",
        "plt.show()"
      ],
      "metadata": {
        "colab": {
          "base_uri": "https://localhost:8080/",
          "height": 581
        },
        "outputId": "44d72d4c-cbbd-484e-9a90-24038785331e",
        "id": "fHqdEwS2zkeK"
      },
      "execution_count": 21,
      "outputs": [
        {
          "output_type": "stream",
          "name": "stdout",
          "text": [
            "0 0.0 0.3336888\n",
            "1 0.1111111111111111 0.4281391\n",
            "2 0.2222222222222222 0.6575428\n",
            "3 0.3333333333333333 1.0039852\n",
            "4 0.4444444444444444 1.2897536\n",
            "5 0.5555555555555556 1.2888277\n",
            "6 0.6666666666666666 0.9994192\n",
            "7 0.7777777777777777 0.6537187\n",
            "8 0.8888888888888888 0.42723155\n",
            "9 1.0 0.33274385\n"
          ]
        },
        {
          "output_type": "display_data",
          "data": {
            "text/plain": [
              "<Figure size 450x375 with 1 Axes>"
            ],
            "image/png": "[encoded data removed]"
          },
          "metadata": {}
        }
      ]
    },
    {
      "cell_type": "markdown",
      "source": [
        "### Model 2 -> Model 2 + permutations"
      ],
      "metadata": {
        "id": "7eodEWyFzp_H"
      }
    },
    {
      "cell_type": "code",
      "source": [
        "ts = np.linspace(0.0,1.0,10)\n",
        "\n",
        "start_vector = flattened_model2\n",
        "stop_vector = flattened_model2_permuted_flat\n",
        "name = \"Model 2 -> (Model 2 + permutations)\"\n",
        "\n",
        "test_losses_list = []\n",
        "test_accs_list = []\n",
        "train_losses_list = []\n",
        "train_accs_list = []\n",
        "\n",
        "for i,t in enumerate(ts):\n",
        "  new_params = get_linear_combination(\n",
        "      (1.0-t), start_vector, t, stop_vector\n",
        "  )\n",
        "  test_loss, test_accuracy = stuff[\"dataset_loss_and_accuracy\"](unflatten_params(new_params), test_ds,\n",
        "                                                                  10_000)\n",
        "  test_losses_list.append(test_loss)\n",
        "  test_accs_list.append(test_accuracy)\n",
        "\n",
        "  train_loss, train_accuracy = stuff[\"dataset_loss_and_accuracy\"](unflatten_params(new_params), train_ds,\n",
        "                                                                  60_000)\n",
        "  train_losses_list.append(train_loss)\n",
        "  train_accs_list.append(train_accuracy)\n",
        "\n",
        "  print(i,t,test_loss)\n",
        "\n",
        "fig = plt.figure(figsize=(6,5),dpi=75)\n",
        "fig.patch.set_facecolor('white')\n",
        "plt.title(f\"Linear weight interpolation\\n{name}\",fontsize=16)\n",
        "plt.plot(ts,train_losses_list,label=\"train\",marker=\"o\",color=\"crimson\",linewidth=2)\n",
        "plt.plot(ts,test_losses_list,label=\"test\",marker=\"o\",color=\"navy\",linewidth=2)\n",
        "plt.xlabel(\"Interpolation coeff\",fontsize=16)\n",
        "plt.ylabel(\"Loss\",fontsize=16)\n",
        "plt.xticks(fontsize=16)\n",
        "plt.yticks(fontsize=16)\n",
        "plt.legend(fontsize=16)\n",
        "plt.show()"
      ],
      "metadata": {
        "colab": {
          "base_uri": "https://localhost:8080/",
          "height": 581
        },
        "outputId": "c650e7a3-b57a-4971-eb69-2117e2397abd",
        "id": "IFCT987ozWDL"
      },
      "execution_count": 22,
      "outputs": [
        {
          "output_type": "stream",
          "name": "stdout",
          "text": [
            "0 0.0 0.33274385\n",
            "1 0.1111111111111111 0.46210402\n",
            "2 0.2222222222222222 0.7930109\n",
            "3 0.3333333333333333 1.2802448\n",
            "4 0.4444444444444444 1.6542329\n",
            "5 0.5555555555555556 1.6567454\n",
            "6 0.6666666666666666 1.2869235\n",
            "7 0.7777777777777777 0.7966242\n",
            "8 0.8888888888888888 0.46074358\n",
            "9 1.0 0.33274385\n"
          ]
        },
        {
          "output_type": "display_data",
          "data": {
            "text/plain": [
              "<Figure size 450x375 with 1 Axes>"
            ],
            "image/png": "[encoded data removed]"
          },
          "metadata": {}
        }
      ]
    },
    {
      "cell_type": "markdown",
      "source": [
        "### Model 2 -> Model 1 + permutations"
      ],
      "metadata": {
        "id": "IkRjwZNtz0SV"
      }
    },
    {
      "cell_type": "code",
      "source": [
        "ts = np.linspace(0.0,1.0,10)\n",
        "\n",
        "start_vector = flattened_model2\n",
        "stop_vector = flattened_model1_permuted_flat\n",
        "name = \"Model 2 -> (Model 1 + permutations)\"\n",
        "\n",
        "test_losses_list = []\n",
        "test_accs_list = []\n",
        "train_losses_list = []\n",
        "train_accs_list = []\n",
        "\n",
        "for i,t in enumerate(ts):\n",
        "  new_params = get_linear_combination(\n",
        "      (1.0-t), start_vector, t, stop_vector\n",
        "  )\n",
        "  test_loss, test_accuracy = stuff[\"dataset_loss_and_accuracy\"](unflatten_params(new_params), test_ds,\n",
        "                                                                  10_000)\n",
        "  test_losses_list.append(test_loss)\n",
        "  test_accs_list.append(test_accuracy)\n",
        "\n",
        "  train_loss, train_accuracy = stuff[\"dataset_loss_and_accuracy\"](unflatten_params(new_params), train_ds,\n",
        "                                                                  60_000)\n",
        "  train_losses_list.append(train_loss)\n",
        "  train_accs_list.append(train_accuracy)\n",
        "\n",
        "  print(i,t,test_loss)\n",
        "\n",
        "fig = plt.figure(figsize=(6,5),dpi=75)\n",
        "fig.patch.set_facecolor('white')\n",
        "plt.title(f\"Linear weight interpolation\\n{name}\",fontsize=16)\n",
        "plt.plot(ts,train_losses_list,label=\"train\",marker=\"o\",color=\"crimson\",linewidth=2)\n",
        "plt.plot(ts,test_losses_list,label=\"test\",marker=\"o\",color=\"navy\",linewidth=2)\n",
        "plt.xlabel(\"Interpolation coeff\",fontsize=16)\n",
        "plt.ylabel(\"Loss\",fontsize=16)\n",
        "plt.xticks(fontsize=16)\n",
        "plt.yticks(fontsize=16)\n",
        "plt.legend(fontsize=16)\n",
        "plt.show()"
      ],
      "metadata": {
        "colab": {
          "base_uri": "https://localhost:8080/",
          "height": 581
        },
        "outputId": "baff3f81-ace0-4ac6-fcbb-70750297eca1",
        "id": "2mvv85Yhz0SV"
      },
      "execution_count": 23,
      "outputs": [
        {
          "output_type": "stream",
          "name": "stdout",
          "text": [
            "0 0.0 0.33274385\n",
            "1 0.1111111111111111 0.46485168\n",
            "2 0.2222222222222222 0.8080559\n",
            "3 0.3333333333333333 1.3084896\n",
            "4 0.4444444444444444 1.6868069\n",
            "5 0.5555555555555556 1.6908237\n",
            "6 0.6666666666666666 1.3041146\n",
            "7 0.7777777777777777 0.79673755\n",
            "8 0.8888888888888888 0.46011817\n",
            "9 1.0 0.3336888\n"
          ]
        },
        {
          "output_type": "display_data",
          "data": {
            "text/plain": [
              "<Figure size 450x375 with 1 Axes>"
            ],
            "image/png": "[encoded data removed]"
          },
          "metadata": {}
        }
      ]
    },
    {
      "cell_type": "markdown",
      "source": [
        "### Model 1 -> Model 1 + permutations"
      ],
      "metadata": {
        "id": "1KXzxPqi0CIV"
      }
    },
    {
      "cell_type": "code",
      "source": [
        "ts = np.linspace(0.0,1.0,10)\n",
        "\n",
        "start_vector = flattened_model1\n",
        "stop_vector = flattened_model1_permuted_flat\n",
        "name = \"Model 1 -> (Model 1 + permutations)\"\n",
        "\n",
        "test_losses_list = []\n",
        "test_accs_list = []\n",
        "train_losses_list = []\n",
        "train_accs_list = []\n",
        "\n",
        "for i,t in enumerate(ts):\n",
        "  new_params = get_linear_combination(\n",
        "      (1.0-t), start_vector, t, stop_vector\n",
        "  )\n",
        "  test_loss, test_accuracy = stuff[\"dataset_loss_and_accuracy\"](unflatten_params(new_params), test_ds,\n",
        "                                                                  10_000)\n",
        "  test_losses_list.append(test_loss)\n",
        "  test_accs_list.append(test_accuracy)\n",
        "\n",
        "  train_loss, train_accuracy = stuff[\"dataset_loss_and_accuracy\"](unflatten_params(new_params), train_ds,\n",
        "                                                                  60_000)\n",
        "  train_losses_list.append(train_loss)\n",
        "  train_accs_list.append(train_accuracy)\n",
        "\n",
        "  print(i,t,test_loss)\n",
        "\n",
        "fig = plt.figure(figsize=(6,5),dpi=75)\n",
        "fig.patch.set_facecolor('white')\n",
        "plt.title(f\"Linear weight interpolation\\n{name}\",fontsize=16)\n",
        "plt.plot(ts,train_losses_list,label=\"train\",marker=\"o\",color=\"crimson\",linewidth=2)\n",
        "plt.plot(ts,test_losses_list,label=\"test\",marker=\"o\",color=\"navy\",linewidth=2)\n",
        "plt.xlabel(\"Interpolation coeff\",fontsize=16)\n",
        "plt.ylabel(\"Loss\",fontsize=16)\n",
        "plt.xticks(fontsize=16)\n",
        "plt.yticks(fontsize=16)\n",
        "plt.legend(fontsize=16)\n",
        "plt.show()"
      ],
      "metadata": {
        "colab": {
          "base_uri": "https://localhost:8080/",
          "height": 581
        },
        "outputId": "7bfe449a-f546-4c97-a73c-d38f1dd3ba39",
        "id": "dnVjsLEN0CIV"
      },
      "execution_count": 24,
      "outputs": [
        {
          "output_type": "stream",
          "name": "stdout",
          "text": [
            "0 0.0 0.3336888\n",
            "1 0.1111111111111111 0.45462272\n",
            "2 0.2222222222222222 0.7629065\n",
            "3 0.3333333333333333 1.2219255\n",
            "4 0.4444444444444444 1.585128\n",
            "5 0.5555555555555556 1.598472\n",
            "6 0.6666666666666666 1.2485178\n",
            "7 0.7777777777777777 0.77879184\n",
            "8 0.8888888888888888 0.4587199\n",
            "9 1.0 0.3336888\n"
          ]
        },
        {
          "output_type": "display_data",
          "data": {
            "text/plain": [
              "<Figure size 450x375 with 1 Axes>"
            ],
            "image/png": "[encoded data removed]"
          },
          "metadata": {}
        }
      ]
    },
    {
      "cell_type": "markdown",
      "source": [
        "## Predictions"
      ],
      "metadata": {
        "id": "9O0zfLfg0GHt"
      }
    },
    {
      "cell_type": "code",
      "source": [
        "def compare_predictions(\n",
        "    model1,\n",
        "    model2,\n",
        "):\n",
        "\n",
        "  _, _, logits1, _ = stuff[\"dataset_predictions\"](model1, test_ds,\n",
        "                                                                    10_000)\n",
        "  _, _, logits2, _ = stuff[\"dataset_predictions\"](model2, test_ds,\n",
        "                                                                    10_000)\n",
        "  \n",
        "  return jnp.sum(jnp.argmax(logits1[0],axis=-1) != jnp.argmax(logits2[0],axis=-1))\n",
        "  \n"
      ],
      "metadata": {
        "id": "DBQgrut1LWt8"
      },
      "execution_count": 25,
      "outputs": []
    },
    {
      "cell_type": "code",
      "source": [
        "models_to_show = [\n",
        "    (\"model 1\", flattened_model1),\n",
        "    (\"model 2\", flattened_model2),\n",
        "    (\"model 1 + perms\", flattened_model1_permuted_flat),\n",
        "    (\"model 2 + perms\", flattened_model2_permuted_flat), \n",
        "]\n",
        "\n",
        "disagreement_grid = np.zeros((len(models_to_show),len(models_to_show)))\n",
        "for i,(vector_str1, vector1) in enumerate(models_to_show):\n",
        "  for j,(vector_str2, vector2) in enumerate(models_to_show):\n",
        "    disagreement_now = compare_predictions(\n",
        "        unflatten_params(vector1),\n",
        "        unflatten_params(vector2)\n",
        "        )\n",
        "    print(f\"Disagreemnt {vector_str1} vs {vector_str2}={disagreement_now}\")\n",
        "    disagreement_grid[i,j] = disagreement_now"
      ],
      "metadata": {
        "colab": {
          "base_uri": "https://localhost:8080/"
        },
        "id": "SJ4mrJFwNlY4",
        "outputId": "3d63a57a-258a-452f-b548-a089ad58b915"
      },
      "execution_count": 26,
      "outputs": [
        {
          "output_type": "stream",
          "name": "stdout",
          "text": [
            "Disagreemnt model 1 vs model 1=0\n",
            "Disagreemnt model 1 vs model 2=339\n",
            "Disagreemnt model 1 vs model 1 + perms=0\n",
            "Disagreemnt model 1 vs model 2 + perms=339\n",
            "Disagreemnt model 2 vs model 1=339\n",
            "Disagreemnt model 2 vs model 2=0\n",
            "Disagreemnt model 2 vs model 1 + perms=339\n",
            "Disagreemnt model 2 vs model 2 + perms=0\n",
            "Disagreemnt model 1 + perms vs model 1=0\n",
            "Disagreemnt model 1 + perms vs model 2=339\n",
            "Disagreemnt model 1 + perms vs model 1 + perms=0\n",
            "Disagreemnt model 1 + perms vs model 2 + perms=339\n",
            "Disagreemnt model 2 + perms vs model 1=339\n",
            "Disagreemnt model 2 + perms vs model 2=0\n",
            "Disagreemnt model 2 + perms vs model 1 + perms=339\n",
            "Disagreemnt model 2 + perms vs model 2 + perms=0\n"
          ]
        }
      ]
    },
    {
      "cell_type": "markdown",
      "source": [
        "## Loss landscape cuts"
      ],
      "metadata": {
        "id": "dL5jUqFX09Ws"
      }
    },
    {
      "cell_type": "code",
      "source": [
        "# reconstructing parameter dictionaries from flat vectors\n",
        "def reconstruct(vector, example_flat_model, keys):\n",
        "  i = 0\n",
        "  output = dict()\n",
        "  for key in keys:\n",
        "    shape_now = example_flat_model[key].shape\n",
        "    size_now = np.prod(shape_now)\n",
        "    data_now = vector[i:i+size_now].reshape(shape_now)\n",
        "    output[key] = data_now\n",
        "    i = i + size_now\n",
        "  return output\n",
        "\n"
      ],
      "metadata": {
        "id": "0ZLoWis0YFVN"
      },
      "execution_count": 27,
      "outputs": []
    },
    {
      "cell_type": "code",
      "source": [
        "# testing it, should get all 0.0\n",
        "rec = reconstruct(v1, flattened_model1, flattened_model1.keys())\n",
        "for key in rec.keys():\n",
        "  print(jnp.max(jnp.abs(flattened_model1[key] - rec[key])))\n",
        "  assert jnp.max(jnp.abs(flattened_model1[key] - rec[key])) == 0.0"
      ],
      "metadata": {
        "colab": {
          "base_uri": "https://localhost:8080/"
        },
        "id": "UHcrTpX_YfWC",
        "outputId": "d7c5d1df-e256-42f0-c6d4-79210c36f13a"
      },
      "execution_count": 28,
      "outputs": [
        {
          "output_type": "stream",
          "name": "stdout",
          "text": [
            "0.0\n",
            "0.0\n",
            "0.0\n",
            "0.0\n",
            "0.0\n",
            "0.0\n",
            "0.0\n",
            "0.0\n"
          ]
        }
      ]
    },
    {
      "cell_type": "markdown",
      "source": [
        "### Cut model1 - model2 - (model2+perm)"
      ],
      "metadata": {
        "id": "JDEctgeR1KBT"
      }
    },
    {
      "cell_type": "code",
      "source": [
        "model1 = flattened_model1\n",
        "model2 = flattened_model2\n",
        "model3 = flattened_model2_permuted_flat\n",
        "cut_str = \"Model 1 - Model 2 - (Model 2 + permutations)\"\n",
        "\n",
        "keys = model1.keys()\n",
        "\n",
        "v1 = jnp.concatenate([model1[key].reshape([-1]) for key in keys],axis=0)\n",
        "v2 = jnp.concatenate([model2[key].reshape([-1]) for key in keys],axis=0)\n",
        "v3 = jnp.concatenate([model3[key].reshape([-1]) for key in keys],axis=0)\n",
        "\n",
        "basis1 = v2-v1\n",
        "basis1_normed = basis1 / jnp.sqrt(jnp.sum(basis1**2.0))\n",
        "basis2 = v3 - v1\n",
        "basis2 = basis2 - jnp.sum(basis2*basis1_normed)*basis1_normed #orthogonalization\n",
        "basis2_normed = basis2 / jnp.sqrt(jnp.sum(basis2**2.0))\n",
        "\n",
        "scale = jnp.sqrt(jnp.sum(basis1**2))\n",
        "\n",
        "t1s = np.linspace(-0.5,1.5,21)\n",
        "t2s = np.linspace(-0.5,1.5,20)\n",
        "\n",
        "acc_grid = np.zeros((len(t1s),len(t2s)))\n",
        "loss_grid = np.zeros((len(t1s),len(t2s)))\n",
        "logits_grid = np.zeros((len(t1s),len(t2s), 10000, 10))\n",
        "\n",
        "for i1,t1 in enumerate(t1s):\n",
        "  print(f\"{i1}/{len(t1s)}\")\n",
        "  for i2,t2 in enumerate(t2s):\n",
        "\n",
        "    new_flat_v = v1 + basis1_normed*t1*scale + basis2_normed*t2*scale\n",
        "    reconstructed_flat = reconstruct(new_flat_v, model1, keys)\n",
        "    actest_loss, test_accuracy, logits, onehots = stuff[\"dataset_predictions\"](unflatten_params(reconstructed_flat), test_ds,\n",
        "                                                                  10_000)\n",
        "    logits_grid[i1,i2] = np.array(logits[0])\n",
        "    \n",
        "    acc_grid[i1,i2] = test_accuracy\n",
        "    loss_grid[i1,i2] = actest_loss\n",
        "  \n",
        "def projection(vector):\n",
        "  x = jnp.sum((vector - v1)*basis1_normed)/scale\n",
        "  y = jnp.sum((vector - v1)*basis2_normed)/scale\n",
        "  return x,y\n",
        "\n"
      ],
      "metadata": {
        "colab": {
          "base_uri": "https://localhost:8080/"
        },
        "id": "nG_tQWNxPbHS",
        "outputId": "ea53dfe8-3758-4d48-f8bf-b8378385cbf4"
      },
      "execution_count": 29,
      "outputs": [
        {
          "output_type": "stream",
          "name": "stdout",
          "text": [
            "0/21\n",
            "1/21\n",
            "2/21\n",
            "3/21\n",
            "4/21\n",
            "5/21\n",
            "6/21\n",
            "7/21\n",
            "8/21\n",
            "9/21\n",
            "10/21\n",
            "11/21\n",
            "12/21\n",
            "13/21\n",
            "14/21\n",
            "15/21\n",
            "16/21\n",
            "17/21\n",
            "18/21\n",
            "19/21\n",
            "20/21\n"
          ]
        }
      ]
    },
    {
      "cell_type": "code",
      "source": [
        "import matplotlib.pyplot as plt\n",
        "\n",
        "fig = plt.figure(figsize = (6,5),dpi=100)\n",
        "fig.patch.set_facecolor('white')\n",
        "plt.title(f\"Test loss weight space cut\\n{cut_str}\")\n",
        "\n",
        "plt.contourf(t1s,t2s,loss_grid.T,cmap=plt.cm.Greens_r,vmax=2.2,levels=40)\n",
        "plt.colorbar()\n",
        "\n",
        "x1,y1 = projection(v1)\n",
        "plt.scatter([x1],[y1],marker=\"o\",color=\"red\",label=\"model 1\",s=150)\n",
        "\n",
        "x2,y2 = projection(v2)\n",
        "plt.scatter([x2],[y2],marker=\"s\",color=\"blue\",label=\"model 2\",s=150)\n",
        "\n",
        "x2p,y2p = projection(v3)\n",
        "plt.scatter([x2p],[y2p],marker=\"^\",color=\"aqua\",label=\"model 2\\npermuted\",s=150)\n",
        "\n",
        "\n",
        "plt.plot([x1,x2p],[y1,y2p],linewidth=2,linestyle=\"--\",color=\"fuchsia\",label=\"Not connected?!?\")\n",
        "\n",
        "plt.xlabel(\"Weight direction 1\",fontsize = 16)\n",
        "plt.ylabel(\"Weight direction 2\",fontsize = 16)\n",
        "\n",
        "\n",
        "plt.legend(fontsize=10,ncol=1)\n",
        "\n",
        "plt.show()"
      ],
      "metadata": {
        "colab": {
          "base_uri": "https://localhost:8080/",
          "height": 506
        },
        "id": "Xj99g13mNpcO",
        "outputId": "ee6a5dca-7da7-4081-d030-c8ac690a15a7"
      },
      "execution_count": 30,
      "outputs": [
        {
          "output_type": "display_data",
          "data": {
            "text/plain": [
              "<Figure size 600x500 with 2 Axes>"
            ],
            "image/png": "[encoded data removed]"
          },
          "metadata": {}
        }
      ]
    },
    {
      "cell_type": "markdown",
      "source": [
        "## Combined plot"
      ],
      "metadata": {
        "id": "fEsbxWxbLcgH"
      }
    },
    {
      "cell_type": "code",
      "source": [
        "def get_linear_cut(start_vector, stop_vector, steps=10):\n",
        "\n",
        "  ts = np.linspace(0.0,1.0,steps)\n",
        "\n",
        "  test_losses_list = []\n",
        "  test_accs_list = []\n",
        "  train_losses_list = []\n",
        "  train_accs_list = []\n",
        "\n",
        "  for i,t in enumerate(ts):\n",
        "    new_params = get_linear_combination(\n",
        "        (1.0-t), start_vector, t, stop_vector\n",
        "    )\n",
        "    test_loss, test_accuracy = stuff[\"dataset_loss_and_accuracy\"](unflatten_params(new_params), test_ds,\n",
        "                                                                    10_000)\n",
        "    test_losses_list.append(test_loss)\n",
        "    test_accs_list.append(test_accuracy)\n",
        "\n",
        "    train_loss, train_accuracy = stuff[\"dataset_loss_and_accuracy\"](unflatten_params(new_params), train_ds,\n",
        "                                                                    60_000)\n",
        "    train_losses_list.append(train_loss)\n",
        "    train_accs_list.append(train_accuracy)\n",
        "\n",
        "  return ts, test_losses_list, test_accs_list, train_losses_list, train_accs_list\n"
      ],
      "metadata": {
        "id": "i85JbMXcMbHO"
      },
      "execution_count": 31,
      "outputs": []
    },
    {
      "cell_type": "code",
      "source": [
        "import matplotlib.pyplot as plt\n",
        "\n",
        "fig = plt.figure(figsize=(12, 6), dpi = 75)\n",
        "fig.patch.set_facecolor('white')\n",
        "\n",
        "plt.suptitle(\"Git Re-Basin (MLP on MNIST)\\nThe permuted model 2 is NOT linearly connected?!?\")\n",
        "\n",
        "plt.subplot(1,2,1)\n",
        "\n",
        "plt.title(f\"Test loss weight space cut\\n{cut_str}\")\n",
        "\n",
        "plt.contourf(t1s,t2s,loss_grid.T,cmap=plt.cm.Greens_r,vmax=2.2,levels=40)\n",
        "plt.colorbar()\n",
        "\n",
        "x1,y1 = projection(v1)\n",
        "plt.scatter([x1],[y1],marker=\"o\",color=\"red\",label=\"model 1\",s=150)\n",
        "\n",
        "x2,y2 = projection(v2)\n",
        "plt.scatter([x2],[y2],marker=\"s\",color=\"blue\",label=\"model 2\",s=150)\n",
        "\n",
        "x2p,y2p = projection(v3)\n",
        "plt.scatter([x2p],[y2p],marker=\"^\",color=\"aqua\",label=\"model 2\\npermuted\",s=150)\n",
        "\n",
        "\n",
        "plt.plot([x1,x2],[y1,y2],linewidth=2,linestyle=\"--\",color=\"fuchsia\",label=\"Not connected\")\n",
        "plt.plot([x2,x2p],[y2,y2p],linewidth=2,linestyle=\"--\",color=\"lime\",label=\"Not connected\")\n",
        "plt.plot([x1,x2p],[y1,y2p],linewidth=2,linestyle=\"--\",color=\"yellow\",label=\"Also\\nnot connected?!?\")\n",
        "\n",
        "\n",
        "plt.xlabel(\"Weight direction 1\",fontsize = 16)\n",
        "plt.ylabel(\"Weight direction 2\",fontsize = 16)\n",
        "\n",
        "plt.legend(fontsize=10,ncol=1)\n",
        "\n",
        "# getting the data\n",
        "all_test_losses = []\n",
        "ts, test_losses_list, test_accs_list, train_losses_list, train_accs_list = get_linear_cut(flattened_model1, flattened_model2_permuted_flat, 10)\n",
        "all_test_losses += test_losses_list\n",
        "ts, test_losses_list, test_accs_list, train_losses_list, train_accs_list = get_linear_cut(flattened_model2, flattened_model2_permuted_flat, 10)\n",
        "all_test_losses += test_losses_list\n",
        "ts, test_losses_list, test_accs_list, train_losses_list, train_accs_list = get_linear_cut(flattened_model1, flattened_model2, 10)\n",
        "all_test_losses += test_losses_list\n",
        "\n",
        "lower_lim = np.min(test_losses_list)-(np.max(test_losses_list)-np.min(test_losses_list))*0.1\n",
        "upper_lim = np.max(test_losses_list)+(np.max(test_losses_list)-np.min(test_losses_list))*0.1\n",
        "\n",
        "\n",
        "plt.subplot(3,2,2)\n",
        "\n",
        "ts, test_losses_list, test_accs_list, train_losses_list, train_accs_list = get_linear_cut(flattened_model1, flattened_model2_permuted_flat, 10)\n",
        "\n",
        "plt.title(f\"(Model 2 + perm) -> Model 1\",fontsize=12)\n",
        "plt.plot(ts,train_losses_list,label=\"train\",marker=\"o\",color=\"yellow\",linewidth=2)\n",
        "plt.xlabel(\"Interpolation coeff\",fontsize=12)\n",
        "plt.ylabel(\"Loss\",fontsize=12)\n",
        "plt.ylim([lower_lim, upper_lim])\n",
        "\n",
        "\n",
        "plt.subplot(3,2,4)\n",
        "ts, test_losses_list, test_accs_list, train_losses_list, train_accs_list = get_linear_cut(flattened_model2, flattened_model2_permuted_flat, 10)\n",
        "plt.title(f\"Model 2 -> (Model 2 + perm)\",fontsize=12)\n",
        "plt.plot(ts,test_losses_list,label=\"test\",marker=\"o\",color=\"lime\",linewidth=2)\n",
        "plt.xlabel(\"Interpolation coeff\",fontsize=12)\n",
        "plt.ylabel(\"Loss\",fontsize=12)\n",
        "plt.ylim([lower_lim, upper_lim])\n",
        "\n",
        "plt.subplot(3,2,6)\n",
        "ts, test_losses_list, test_accs_list, train_losses_list, train_accs_list = get_linear_cut(flattened_model1, flattened_model2, 10)\n",
        "plt.title(f\"Model 1 -> Model 2\",fontsize=12)\n",
        "plt.plot(ts,test_losses_list,label=\"test\",marker=\"o\",color=\"fuchsia\",linewidth=2)\n",
        "plt.ylim([np.min(test_losses_list),np.max(test_losses_list)])\n",
        "plt.xlabel(\"Interpolation coeff\",fontsize=12)\n",
        "plt.ylabel(\"Loss\",fontsize=12)\n",
        "\n",
        "plt.ylim([lower_lim, upper_lim])\n",
        "\n",
        "plt.tight_layout()\n",
        "plt.subplots_adjust(top=0.85)\n",
        "plt.show()"
      ],
      "metadata": {
        "colab": {
          "base_uri": "https://localhost:8080/",
          "height": 431
        },
        "id": "7sHbZDUxLdeB",
        "outputId": "34ec55fe-eb84-4dab-dc9e-0e8799354616"
      },
      "execution_count": 32,
      "outputs": [
        {
          "output_type": "display_data",
          "data": {
            "text/plain": [
              "<Figure size 900x450 with 5 Axes>"
            ],
            "image/png": "[encoded data removed]"
          },
          "metadata": {}
        }
      ]
    },
    {
      "cell_type": "markdown",
      "source": [
        "# Automating the full experiment to sweep over optimizers & LRs"
      ],
      "metadata": {
        "id": "iet3WStBDSuW"
      }
    },
    {
      "cell_type": "markdown",
      "source": [
        "## Wrappers"
      ],
      "metadata": {
        "id": "6f-QtcwUTb_O"
      }
    },
    {
      "cell_type": "code",
      "source": [
        "def get_optima(\n",
        "  num_epochs = 20,\n",
        "  batch_size = 500,\n",
        "  seed = 12421,\n",
        "  config_optimizer = \"sgd\", #\"adam\"\n",
        "  learning_rate = 1e-3,\n",
        "  runs_to_collect = 2,\n",
        "):\n",
        "\n",
        "\n",
        "  rng = random.PRNGKey(seed)\n",
        "\n",
        "\n",
        "  # storing model params after training\n",
        "  flattened_models_list = []\n",
        "\n",
        "  for run_i in range(runs_to_collect):\n",
        "\n",
        "    rng = random.PRNGKey(seed+run_i) # chaning the seed each run \n",
        "    rngmix = lambda rng, x: random.fold_in(rng, hash(x))\n",
        "\n",
        "    model = MLPModel()\n",
        "    stuff = make_stuff(model)\n",
        "\n",
        "    print(\"--------------------------\")\n",
        "    print(f\"Starting run {run_i}\")\n",
        "\n",
        "\n",
        "    train_ds, test_ds = load_datasets()\n",
        "    print(\"train_ds labels hash\", hash(np.array(train_ds[\"labels\"]).tobytes()))\n",
        "    print(\"test_ds labels hash\", hash(np.array(test_ds[\"labels\"]).tobytes()))\n",
        "\n",
        "    num_train_examples = train_ds[\"images_u8\"].shape[0]\n",
        "    num_test_examples = test_ds[\"images_u8\"].shape[0]\n",
        "    assert num_train_examples % batch_size == 0\n",
        "    print(\"num_train_examples\", num_train_examples)\n",
        "    print(\"num_test_examples\", num_test_examples)\n",
        "\n",
        "    if config_optimizer == \"sgd\":\n",
        "      # See runs:\n",
        "      # * https://wandb.ai/skainswo/playing-the-lottery/runs/3blb4uhm\n",
        "      # * https://wandb.ai/skainswo/playing-the-lottery/runs/174j7umt\n",
        "      # * https://wandb.ai/skainswo/playing-the-lottery/runs/td02y8gg\n",
        "      lr_schedule = optax.warmup_cosine_decay_schedule(\n",
        "          init_value=1e-6,\n",
        "          peak_value=learning_rate,\n",
        "          warmup_steps=10,\n",
        "          # Confusingly, `decay_steps` is actually the total number of steps,\n",
        "          # including the warmup.\n",
        "          decay_steps=num_epochs * (num_train_examples // batch_size),\n",
        "      )\n",
        "      tx = optax.sgd(lr_schedule, momentum=0.9)\n",
        "    elif config_optimizer == \"adam\":\n",
        "      # See runs:\n",
        "      # - https://wandb.ai/skainswo/playing-the-lottery/runs/1b1gztfx (trim-fire-575)\n",
        "      # - https://wandb.ai/skainswo/playing-the-lottery/runs/1hrmw7wr (wild-dream-576)\n",
        "      tx = optax.adam(learning_rate)\n",
        "    else:\n",
        "      # See runs:\n",
        "      # - https://wandb.ai/skainswo/playing-the-lottery/runs/k4luj7er (faithful-spaceship-579)\n",
        "      # - https://wandb.ai/skainswo/playing-the-lottery/runs/3ru7xy8c (sage-forest-580)\n",
        "      tx = optax.adamw(learning_rate, weight_decay=1e-4)\n",
        "\n",
        "    train_state = TrainState.create(\n",
        "        apply_fn=model.apply,\n",
        "        params=model.init(rngmix(rng, f\"init{run_i}\"), jnp.zeros((1, 28, 28, 1)))[\"params\"],\n",
        "        tx=tx,\n",
        "    )\n",
        "\n",
        "    for epoch in tqdm(range(num_epochs)):\n",
        "      infos = []\n",
        "    \n",
        "      batch_ix = random.permutation(rngmix(rng, f\"epoch-{epoch}\"), num_train_examples).reshape(\n",
        "          (-1, batch_size))\n",
        "      for i in range(batch_ix.shape[0]):\n",
        "        p = batch_ix[i, :]\n",
        "        images_u8 = train_ds[\"images_u8\"][p, :, :, :]\n",
        "        labels = train_ds[\"labels\"][p]\n",
        "        train_state, info = stuff[\"step\"](train_state, images_u8, labels)\n",
        "      \n",
        "\n",
        "      # train_loss = sum(batch_size * x[\"batch_loss\"] for x in infos) / num_train_examples\n",
        "      # train_accuracy = sum(x[\"num_correct\"] for x in infos) / num_train_examples\n",
        "\n",
        "      \n",
        "      # actest_loss, test_accuracy = stuff[\"dataset_loss_and_accuracy\"](train_state.params, test_ds,\n",
        "      #                                                                 10_000)\n",
        "\n",
        "      params_l2 = tree_map(lambda x: jnp.sqrt(jnp.sum(x**2)),\n",
        "                            flatten_params({\"params_l2\": train_state.params}))\n",
        "      \n",
        "      \n",
        "    # summary\n",
        "    print(\"-----------------\")\n",
        "    print(f\"Run {run_i} DONE!\")\n",
        "    test_loss, test_accuracy = stuff[\"dataset_loss_and_accuracy\"](train_state.params, test_ds,\n",
        "                                                                  10_000)\n",
        "    train_loss, train_accuracy = stuff[\"dataset_loss_and_accuracy\"](train_state.params, train_ds,\n",
        "                                                                  60_000)\n",
        "    print(f\"Run={run_i} test loss={test_loss} test accuracy={test_accuracy} train loss={train_loss} train accuracy={train_accuracy}\")\n",
        "\n",
        "    flattened_models_list.append(flatten_params(train_state.params))\n",
        "\n",
        "  return flattened_models_list\n"
      ],
      "metadata": {
        "id": "j1zg2JP0DaW9"
      },
      "execution_count": 44,
      "outputs": []
    },
    {
      "cell_type": "code",
      "source": [
        "def analyze_optima(\n",
        "  flattened_model1,\n",
        "  flattened_model2    \n",
        "):\n",
        "\n",
        "  permutation_spec = mlp_permutation_spec(3)\n",
        "  final_permutation = weight_matching(random.PRNGKey(seed), permutation_spec,\n",
        "                                      flattened_model1, flattened_model2)\n",
        "\n",
        "  # applying the permutation to the second model\n",
        "  flattened_model1_permuted = unflatten_params(\n",
        "          apply_permutation(permutation_spec, final_permutation, flattened_model1)\n",
        "          )\n",
        "  flattened_model2_permuted = unflatten_params(\n",
        "          apply_permutation(permutation_spec, final_permutation, flattened_model2)\n",
        "          )\n",
        "  \n",
        "  flattened_model1_permuted_flat = flatten_params(flattened_model1_permuted)\n",
        "  flattened_model2_permuted_flat = flatten_params(flattened_model2_permuted)\n",
        "\n",
        "\n",
        "  model1_test_loss, model1_test_accuracy = stuff[\"dataset_loss_and_accuracy\"](unflatten_params(flattened_model1), test_ds,\n",
        "                                                                    10_000)\n",
        "  model1_train_loss, model1_train_accuracy = stuff[\"dataset_loss_and_accuracy\"](unflatten_params(flattened_model1), train_ds,\n",
        "                                                                    60_000)\n",
        "\n",
        "\n",
        "  model2_test_loss, model2_test_accuracy = stuff[\"dataset_loss_and_accuracy\"](unflatten_params(flattened_model2), test_ds,\n",
        "                                                                    10_000)\n",
        "  model2_train_loss, model2_train_accuracy = stuff[\"dataset_loss_and_accuracy\"](unflatten_params(flattened_model2), train_ds,\n",
        "                                                                    60_000)\n",
        "\n",
        "\n",
        "  model2_permuted_test_loss, model2_permuted_test_accuracy = stuff[\"dataset_loss_and_accuracy\"](unflatten_params(flattened_model2_permuted), test_ds,\n",
        "                                                                    10_000)\n",
        "  model2_permuted_train_loss, model2_permuted_train_accuracy = stuff[\"dataset_loss_and_accuracy\"](unflatten_params(flattened_model2_permuted), train_ds,\n",
        "                                                                    60_000)\n",
        "  \n",
        "  # get values in the middle\n",
        "  ts, test_losses_list, test_accs_list, train_losses_list, train_accs_list = get_linear_cut(flattened_model1, flattened_model2, 3)\n",
        "  bump_1_to_2 = test_losses_list[1]\n",
        "\n",
        "  ts, test_losses_list, test_accs_list, train_losses_list, train_accs_list = get_linear_cut(flattened_model1, flattened_model2_permuted_flat, 3)\n",
        "  bump_1_to_2perm = test_losses_list[1]\n",
        "\n",
        "  ts, test_losses_list, test_accs_list, train_losses_list, train_accs_list = get_linear_cut(flattened_model2, flattened_model2_permuted_flat, 3)\n",
        "  bump_2_to_2perm = test_losses_list[1]\n",
        "\n",
        "  return {\n",
        "    \"model1_test_loss\": model1_test_loss,\n",
        "    \"model2_test_loss\": model2_test_loss,\n",
        "    \"model2_permuted_test_loss\": model2_permuted_test_loss,\n",
        "    \"bump_1_to_2\": bump_1_to_2,\n",
        "    \"bump_1_to_2perm\": bump_1_to_2perm,\n",
        "    \"bump_2_to_2perm\": bump_2_to_2perm,\n",
        "  }\n"
      ],
      "metadata": {
        "id": "_sUy1c5gDyxJ"
      },
      "execution_count": 36,
      "outputs": []
    },
    {
      "cell_type": "markdown",
      "source": [
        "## SGD Experimental sweep"
      ],
      "metadata": {
        "id": "t9wOxDZIGjGO"
      }
    },
    {
      "cell_type": "code",
      "source": [
        "reps = 1\n",
        "LRs = np.exp(np.linspace(np.log(1e-4),np.log(0.1),10))\n",
        "optimizers = [\"sgd\"]\n",
        "epochs = 50"
      ],
      "metadata": {
        "id": "QeDcZWz2GlAt"
      },
      "execution_count": 121,
      "outputs": []
    },
    {
      "cell_type": "code",
      "source": [
        "all_flattened_models_tuples = [] # collecting all solutions every\n",
        "stored_results_dict = []\n",
        "\n",
        "for rep in range(reps): # to get error bars\n",
        "  for i_opt, optimizer in enumerate(optimizers):\n",
        "    for i_LR, LR in enumerate(LRs):\n",
        "\n",
        "      print(\"*****************************************\")\n",
        "      print(f\"Experiment {len(stored_results_dict)} / {reps*len(optimizers)*len(LRs)}\")\n",
        "\n",
        "      flattened_models_list = get_optima(\n",
        "          num_epochs = epochs,\n",
        "          config_optimizer = optimizer,\n",
        "          learning_rate = LR,\n",
        "          seed = int(np.random.rand()*100000000),\n",
        "          )\n",
        "      \n",
        "      flattened_model1 = flattened_models_list[0]\n",
        "      flattened_model2 = flattened_models_list[1]\n",
        "      results_dict = analyze_optima(flattened_model1,flattened_model2)\n",
        "\n",
        "      results_dict[\"LR\"] = LR\n",
        "      results_dict[\"optimizer\"] = optimizer\n",
        "      results_dict[\"epochs\"] = epochs\n",
        "      \n",
        "      stored_results_dict.append(results_dict)\n",
        "      all_flattened_models_tuples.append(flattened_models_list)\n",
        "\n",
        "      print(results_dict)"
      ],
      "metadata": {
        "colab": {
          "base_uri": "https://localhost:8080/"
        },
        "id": "C6iG-fADFpXM",
        "outputId": "bbd7837c-ae95-4575-97af-9b7ca0c43180"
      },
      "execution_count": 122,
      "outputs": [
        {
          "output_type": "stream",
          "name": "stdout",
          "text": [
            "*****************************************\n",
            "Experiment 0 / 10\n",
            "--------------------------\n",
            "Starting run 0\n",
            "train_ds labels hash 1633421567493271265\n",
            "test_ds labels hash -755657542732042722\n",
            "num_train_examples 60000\n",
            "num_test_examples 10000\n"
          ]
        },
        {
          "output_type": "stream",
          "name": "stderr",
          "text": [
            "100%|██████████| 50/50 [00:12<00:00,  4.07it/s]\n"
          ]
        },
        {
          "output_type": "stream",
          "name": "stdout",
          "text": [
            "-----------------\n",
            "Run 0 DONE!\n",
            "Run=0 test loss=0.9369975328445435 test accuracy=0.8098000288009644 train loss=0.9593496322631836 train accuracy=0.7988499999046326\n",
            "--------------------------\n",
            "Starting run 1\n",
            "train_ds labels hash 1633421567493271265\n",
            "test_ds labels hash -755657542732042722\n",
            "num_train_examples 60000\n",
            "num_test_examples 10000\n"
          ]
        },
        {
          "output_type": "stream",
          "name": "stderr",
          "text": [
            "100%|██████████| 50/50 [00:12<00:00,  4.14it/s]\n"
          ]
        },
        {
          "output_type": "stream",
          "name": "stdout",
          "text": [
            "-----------------\n",
            "Run 1 DONE!\n",
            "Run=1 test loss=0.9893447756767273 test accuracy=0.8127000331878662 train loss=1.0137306451797485 train accuracy=0.8065000176429749\n",
            "0/P_0: 87.9324722290039\n",
            "0/P_1: 43.36274719238281\n",
            "0/P_2: 24.330177307128906\n",
            "1/P_0: 9.454071044921875\n",
            "1/P_2: 0.0\n",
            "1/P_1: 1.106414794921875\n",
            "2/P_2: 3.2466888427734375\n",
            "2/P_0: 1.061309814453125\n",
            "2/P_1: 0.285400390625\n",
            "3/P_0: 0.38336944580078125\n",
            "3/P_1: 0.019256591796875\n",
            "3/P_2: 0.9462356567382812\n",
            "4/P_0: 0.21396636962890625\n",
            "4/P_1: 0.0731353759765625\n",
            "4/P_2: 0.274139404296875\n",
            "5/P_1: 0.1006622314453125\n",
            "5/P_2: 0.5828628540039062\n",
            "5/P_0: 0.3113555908203125\n",
            "6/P_1: 0.0548248291015625\n",
            "6/P_2: 0.4084625244140625\n",
            "6/P_0: 0.1375732421875\n",
            "7/P_2: 0.0\n",
            "7/P_1: 0.073883056640625\n",
            "7/P_0: 0.14936065673828125\n",
            "8/P_1: 0.0\n",
            "8/P_0: 0.0\n",
            "8/P_2: 0.5862884521484375\n",
            "9/P_0: 0.0\n",
            "9/P_1: 0.0\n",
            "9/P_2: 0.0\n",
            "{'model1_test_loss': DeviceArray(0.93699753, dtype=float32), 'model2_test_loss': DeviceArray(0.9893448, dtype=float32), 'model2_permuted_test_loss': DeviceArray(0.9893448, dtype=float32), 'bump_1_to_2': DeviceArray(2.12967, dtype=float32), 'bump_1_to_2perm': DeviceArray(1.9865216, dtype=float32), 'bump_2_to_2perm': DeviceArray(2.076201, dtype=float32), 'LR': 9.999999999999991e-05, 'optimizer': 'sgd', 'epochs': 50}\n",
            "*****************************************\n",
            "Experiment 1 / 10\n",
            "--------------------------\n",
            "Starting run 0\n",
            "train_ds labels hash 1633421567493271265\n",
            "test_ds labels hash -755657542732042722\n",
            "num_train_examples 60000\n",
            "num_test_examples 10000\n"
          ]
        },
        {
          "output_type": "stream",
          "name": "stderr",
          "text": [
            "100%|██████████| 50/50 [00:12<00:00,  4.13it/s]\n"
          ]
        },
        {
          "output_type": "stream",
          "name": "stdout",
          "text": [
            "-----------------\n",
            "Run 0 DONE!\n",
            "Run=0 test loss=0.4777356684207916 test accuracy=0.8767000436782837 train loss=0.49715110659599304 train accuracy=0.8701000213623047\n",
            "--------------------------\n",
            "Starting run 1\n",
            "train_ds labels hash 1633421567493271265\n",
            "test_ds labels hash -755657542732042722\n",
            "num_train_examples 60000\n",
            "num_test_examples 10000\n"
          ]
        },
        {
          "output_type": "stream",
          "name": "stderr",
          "text": [
            "100%|██████████| 50/50 [00:12<00:00,  4.06it/s]\n"
          ]
        },
        {
          "output_type": "stream",
          "name": "stdout",
          "text": [
            "-----------------\n",
            "Run 1 DONE!\n",
            "Run=1 test loss=0.4654730558395386 test accuracy=0.8819000124931335 train loss=0.480959951877594 train accuracy=0.8772667050361633\n",
            "0/P_0: 86.19246673583984\n",
            "0/P_1: 42.832862854003906\n",
            "0/P_2: 23.20125961303711\n",
            "1/P_0: 9.638961791992188\n",
            "1/P_2: 0.0\n",
            "1/P_1: 1.4367828369140625\n",
            "2/P_2: 3.2559585571289062\n",
            "2/P_0: 1.757171630859375\n",
            "2/P_1: 0.54449462890625\n",
            "3/P_0: 0.7360382080078125\n",
            "3/P_1: 0.258758544921875\n",
            "3/P_2: 2.5062713623046875\n",
            "4/P_0: 0.38323974609375\n",
            "4/P_1: 0.0810699462890625\n",
            "4/P_2: 0.543548583984375\n",
            "5/P_1: 0.0123443603515625\n",
            "5/P_2: 0.1434783935546875\n",
            "5/P_0: 0.2115936279296875\n",
            "6/P_1: 0.0\n",
            "6/P_2: 0.0\n",
            "6/P_0: 0.0\n",
            "{'model1_test_loss': DeviceArray(0.47773567, dtype=float32), 'model2_test_loss': DeviceArray(0.46547306, dtype=float32), 'model2_permuted_test_loss': DeviceArray(0.46547306, dtype=float32), 'bump_1_to_2': DeviceArray(1.8826095, dtype=float32), 'bump_1_to_2perm': DeviceArray(1.5764128, dtype=float32), 'bump_2_to_2perm': DeviceArray(1.8180059, dtype=float32), 'LR': 0.0002154434690031884, 'optimizer': 'sgd', 'epochs': 50}\n",
            "*****************************************\n",
            "Experiment 2 / 10\n",
            "--------------------------\n",
            "Starting run 0\n",
            "train_ds labels hash 1633421567493271265\n",
            "test_ds labels hash -755657542732042722\n",
            "num_train_examples 60000\n",
            "num_test_examples 10000\n"
          ]
        },
        {
          "output_type": "stream",
          "name": "stderr",
          "text": [
            "100%|██████████| 50/50 [00:12<00:00,  4.09it/s]\n"
          ]
        },
        {
          "output_type": "stream",
          "name": "stdout",
          "text": [
            "-----------------\n",
            "Run 0 DONE!\n",
            "Run=0 test loss=0.3088226318359375 test accuracy=0.9125000238418579 train loss=0.32547423243522644 train accuracy=0.9087666869163513\n",
            "--------------------------\n",
            "Starting run 1\n",
            "train_ds labels hash 1633421567493271265\n",
            "test_ds labels hash -755657542732042722\n",
            "num_train_examples 60000\n",
            "num_test_examples 10000\n"
          ]
        },
        {
          "output_type": "stream",
          "name": "stderr",
          "text": [
            "100%|██████████| 50/50 [00:12<00:00,  4.10it/s]\n"
          ]
        },
        {
          "output_type": "stream",
          "name": "stdout",
          "text": [
            "-----------------\n",
            "Run 1 DONE!\n",
            "Run=1 test loss=0.3103661835193634 test accuracy=0.9123000502586365 train loss=0.32188689708709717 train accuracy=0.9080166816711426\n",
            "0/P_0: 87.06217193603516\n",
            "0/P_1: 42.810218811035156\n",
            "0/P_2: 24.472923278808594\n",
            "1/P_0: 10.342254638671875\n",
            "1/P_2: 0.0\n",
            "1/P_1: 0.8364105224609375\n",
            "2/P_2: 2.4150772094726562\n",
            "2/P_0: 1.1932525634765625\n",
            "2/P_1: 0.42608642578125\n",
            "3/P_0: 0.5568923950195312\n",
            "3/P_1: 0.1379547119140625\n",
            "3/P_2: 1.7927932739257812\n",
            "4/P_0: 0.3669281005859375\n",
            "4/P_1: 0.018157958984375\n",
            "4/P_2: 0.40137481689453125\n",
            "5/P_1: 0.0\n",
            "5/P_2: 0.0\n",
            "5/P_0: 0.0436859130859375\n",
            "6/P_1: 0.009521484375\n",
            "6/P_2: 0.1109619140625\n",
            "6/P_0: 0.05603790283203125\n",
            "7/P_2: 0.0\n",
            "7/P_1: 0.0\n",
            "7/P_0: 0.0\n",
            "{'model1_test_loss': DeviceArray(0.30882263, dtype=float32), 'model2_test_loss': DeviceArray(0.31036618, dtype=float32), 'model2_permuted_test_loss': DeviceArray(0.31036612, dtype=float32), 'bump_1_to_2': DeviceArray(1.6588213, dtype=float32), 'bump_1_to_2perm': DeviceArray(1.2749197, dtype=float32), 'bump_2_to_2perm': DeviceArray(1.6186098, dtype=float32), 'LR': 0.00046415888336127757, 'optimizer': 'sgd', 'epochs': 50}\n",
            "*****************************************\n",
            "Experiment 3 / 10\n",
            "--------------------------\n",
            "Starting run 0\n",
            "train_ds labels hash 1633421567493271265\n",
            "test_ds labels hash -755657542732042722\n",
            "num_train_examples 60000\n",
            "num_test_examples 10000\n"
          ]
        },
        {
          "output_type": "stream",
          "name": "stderr",
          "text": [
            "100%|██████████| 50/50 [00:12<00:00,  4.09it/s]\n"
          ]
        },
        {
          "output_type": "stream",
          "name": "stdout",
          "text": [
            "-----------------\n",
            "Run 0 DONE!\n",
            "Run=0 test loss=0.2296987920999527 test accuracy=0.9349000453948975 train loss=0.23592190444469452 train accuracy=0.9325667023658752\n",
            "--------------------------\n",
            "Starting run 1\n",
            "train_ds labels hash 1633421567493271265\n",
            "test_ds labels hash -755657542732042722\n",
            "num_train_examples 60000\n",
            "num_test_examples 10000\n"
          ]
        },
        {
          "output_type": "stream",
          "name": "stderr",
          "text": [
            "100%|██████████| 50/50 [00:12<00:00,  4.09it/s]\n"
          ]
        },
        {
          "output_type": "stream",
          "name": "stdout",
          "text": [
            "-----------------\n",
            "Run 1 DONE!\n",
            "Run=1 test loss=0.23173701763153076 test accuracy=0.93340003490448 train loss=0.23717442154884338 train accuracy=0.9325000047683716\n",
            "0/P_0: 85.64693450927734\n",
            "0/P_1: 43.98310089111328\n",
            "0/P_2: 24.623336791992188\n",
            "1/P_0: 10.513015747070312\n",
            "1/P_2: 0.0\n",
            "1/P_1: 1.0250930786132812\n",
            "2/P_2: 3.2592849731445312\n",
            "2/P_0: 1.3718719482421875\n",
            "2/P_1: 0.512847900390625\n",
            "3/P_0: 0.7253265380859375\n",
            "3/P_1: 0.1011505126953125\n",
            "3/P_2: 1.7783737182617188\n",
            "4/P_0: 0.5222625732421875\n",
            "4/P_1: 0.1302947998046875\n",
            "4/P_2: 0.6106491088867188\n",
            "5/P_1: 0.0302581787109375\n",
            "5/P_2: 0.36533355712890625\n",
            "5/P_0: 0.3332672119140625\n",
            "6/P_1: 0.1284942626953125\n",
            "6/P_2: 0.47796630859375\n",
            "6/P_0: 0.170074462890625\n",
            "7/P_2: 0.0\n",
            "7/P_1: 0.07293701171875\n",
            "7/P_0: 0.1515960693359375\n",
            "8/P_1: 0.0374755859375\n",
            "8/P_0: 0.0405426025390625\n",
            "8/P_2: 0.5541152954101562\n",
            "9/P_0: 0.0\n",
            "9/P_1: 0.0257720947265625\n",
            "9/P_2: 0.21856689453125\n",
            "10/P_2: 0.0\n",
            "10/P_0: 0.0794677734375\n",
            "10/P_1: 0.04052734375\n",
            "11/P_0: 0.090728759765625\n",
            "11/P_2: 0.25286102294921875\n",
            "11/P_1: 0.0\n",
            "12/P_0: 0.0\n",
            "12/P_1: 0.0\n",
            "12/P_2: 0.0\n",
            "{'model1_test_loss': DeviceArray(0.22969879, dtype=float32), 'model2_test_loss': DeviceArray(0.23173702, dtype=float32), 'model2_permuted_test_loss': DeviceArray(0.23173705, dtype=float32), 'bump_1_to_2': DeviceArray(1.688459, dtype=float32), 'bump_1_to_2perm': DeviceArray(1.1929176, dtype=float32), 'bump_2_to_2perm': DeviceArray(1.5875494, dtype=float32), 'LR': 0.0010000000000000002, 'optimizer': 'sgd', 'epochs': 50}\n",
            "*****************************************\n",
            "Experiment 4 / 10\n",
            "--------------------------\n",
            "Starting run 0\n",
            "train_ds labels hash 1633421567493271265\n",
            "test_ds labels hash -755657542732042722\n",
            "num_train_examples 60000\n",
            "num_test_examples 10000\n"
          ]
        },
        {
          "output_type": "stream",
          "name": "stderr",
          "text": [
            "100%|██████████| 50/50 [00:12<00:00,  4.03it/s]\n"
          ]
        },
        {
          "output_type": "stream",
          "name": "stdout",
          "text": [
            "-----------------\n",
            "Run 0 DONE!\n",
            "Run=0 test loss=0.15705446898937225 test accuracy=0.9547000527381897 train loss=0.15347789227962494 train accuracy=0.9570333361625671\n",
            "--------------------------\n",
            "Starting run 1\n",
            "train_ds labels hash 1633421567493271265\n",
            "test_ds labels hash -755657542732042722\n",
            "num_train_examples 60000\n",
            "num_test_examples 10000\n"
          ]
        },
        {
          "output_type": "stream",
          "name": "stderr",
          "text": [
            "100%|██████████| 50/50 [00:12<00:00,  3.96it/s]\n"
          ]
        },
        {
          "output_type": "stream",
          "name": "stdout",
          "text": [
            "-----------------\n",
            "Run 1 DONE!\n",
            "Run=1 test loss=0.15636713802814484 test accuracy=0.9532000422477722 train loss=0.15429574251174927 train accuracy=0.956000030040741\n",
            "0/P_0: 87.8568115234375\n",
            "0/P_1: 45.46442413330078\n",
            "0/P_2: 27.787460327148438\n",
            "1/P_0: 10.353874206542969\n",
            "1/P_2: 0.0\n",
            "1/P_1: 1.5656356811523438\n",
            "2/P_2: 3.5596466064453125\n",
            "2/P_0: 1.7790451049804688\n",
            "2/P_1: 0.45611572265625\n",
            "3/P_0: 0.7873916625976562\n",
            "3/P_1: 0.1766815185546875\n",
            "3/P_2: 1.7170181274414062\n",
            "4/P_0: 0.24314117431640625\n",
            "4/P_1: 0.190826416015625\n",
            "4/P_2: 0.32622528076171875\n",
            "5/P_1: 0.152740478515625\n",
            "5/P_2: 0.26830291748046875\n",
            "5/P_0: 0.6245498657226562\n",
            "6/P_1: 0.0\n",
            "6/P_2: 0.0\n",
            "6/P_0: 0.0\n",
            "{'model1_test_loss': DeviceArray(0.15705447, dtype=float32), 'model2_test_loss': DeviceArray(0.15636714, dtype=float32), 'model2_permuted_test_loss': DeviceArray(0.15636714, dtype=float32), 'bump_1_to_2': DeviceArray(1.6500607, dtype=float32), 'bump_1_to_2perm': DeviceArray(1.0891303, dtype=float32), 'bump_2_to_2perm': DeviceArray(1.5754898, dtype=float32), 'LR': 0.0021544346900318825, 'optimizer': 'sgd', 'epochs': 50}\n",
            "*****************************************\n",
            "Experiment 5 / 10\n",
            "--------------------------\n",
            "Starting run 0\n",
            "train_ds labels hash 1633421567493271265\n",
            "test_ds labels hash -755657542732042722\n",
            "num_train_examples 60000\n",
            "num_test_examples 10000\n"
          ]
        },
        {
          "output_type": "stream",
          "name": "stderr",
          "text": [
            "100%|██████████| 50/50 [00:12<00:00,  4.06it/s]\n"
          ]
        },
        {
          "output_type": "stream",
          "name": "stdout",
          "text": [
            "-----------------\n",
            "Run 0 DONE!\n",
            "Run=0 test loss=0.10196800529956818 test accuracy=0.9701000452041626 train loss=0.08290199935436249 train accuracy=0.9768999814987183\n",
            "--------------------------\n",
            "Starting run 1\n",
            "train_ds labels hash 1633421567493271265\n",
            "test_ds labels hash -755657542732042722\n",
            "num_train_examples 60000\n",
            "num_test_examples 10000\n"
          ]
        },
        {
          "output_type": "stream",
          "name": "stderr",
          "text": [
            "100%|██████████| 50/50 [00:12<00:00,  4.01it/s]\n"
          ]
        },
        {
          "output_type": "stream",
          "name": "stdout",
          "text": [
            "-----------------\n",
            "Run 1 DONE!\n",
            "Run=1 test loss=0.10161235183477402 test accuracy=0.9699000716209412 train loss=0.08265171200037003 train accuracy=0.9770500063896179\n",
            "0/P_0: 91.38517761230469\n",
            "0/P_1: 42.559844970703125\n",
            "0/P_2: 29.31598663330078\n",
            "1/P_0: 11.005516052246094\n",
            "1/P_2: 0.0\n",
            "1/P_1: 1.3044815063476562\n",
            "2/P_2: 3.9351272583007812\n",
            "2/P_0: 1.9131622314453125\n",
            "2/P_1: 0.5680694580078125\n",
            "3/P_0: 1.2534866333007812\n",
            "3/P_1: 0.1147613525390625\n",
            "3/P_2: 2.5751113891601562\n",
            "4/P_0: 0.16982269287109375\n",
            "4/P_1: 0.5189971923828125\n",
            "4/P_2: 0.8140716552734375\n",
            "5/P_1: 0.1101226806640625\n",
            "5/P_2: 0.1074371337890625\n",
            "5/P_0: 0.2189178466796875\n",
            "6/P_1: 0.0\n",
            "6/P_2: 0.0\n",
            "6/P_0: 0.0\n",
            "{'model1_test_loss': DeviceArray(0.10196801, dtype=float32), 'model2_test_loss': DeviceArray(0.10161235, dtype=float32), 'model2_permuted_test_loss': DeviceArray(0.10161236, dtype=float32), 'bump_1_to_2': DeviceArray(1.704778, dtype=float32), 'bump_1_to_2perm': DeviceArray(0.9741342, dtype=float32), 'bump_2_to_2perm': DeviceArray(1.4645425, dtype=float32), 'LR': 0.004641588833612781, 'optimizer': 'sgd', 'epochs': 50}\n",
            "*****************************************\n",
            "Experiment 6 / 10\n",
            "--------------------------\n",
            "Starting run 0\n",
            "train_ds labels hash 1633421567493271265\n",
            "test_ds labels hash -755657542732042722\n",
            "num_train_examples 60000\n",
            "num_test_examples 10000\n"
          ]
        },
        {
          "output_type": "stream",
          "name": "stderr",
          "text": [
            "100%|██████████| 50/50 [00:12<00:00,  4.03it/s]\n"
          ]
        },
        {
          "output_type": "stream",
          "name": "stdout",
          "text": [
            "-----------------\n",
            "Run 0 DONE!\n",
            "Run=0 test loss=0.06982932239770889 test accuracy=0.9773000478744507 train loss=0.02723604068160057 train accuracy=0.9940333366394043\n",
            "--------------------------\n",
            "Starting run 1\n",
            "train_ds labels hash 1633421567493271265\n",
            "test_ds labels hash -755657542732042722\n",
            "num_train_examples 60000\n",
            "num_test_examples 10000\n"
          ]
        },
        {
          "output_type": "stream",
          "name": "stderr",
          "text": [
            "100%|██████████| 50/50 [00:12<00:00,  4.05it/s]\n"
          ]
        },
        {
          "output_type": "stream",
          "name": "stdout",
          "text": [
            "-----------------\n",
            "Run 1 DONE!\n",
            "Run=1 test loss=0.07259545475244522 test accuracy=0.9772000312805176 train loss=0.027883324772119522 train accuracy=0.9940500259399414\n",
            "0/P_0: 91.33686828613281\n",
            "0/P_1: 47.67793273925781\n",
            "0/P_2: 35.42088317871094\n",
            "1/P_0: 9.90325927734375\n",
            "1/P_2: 0.0\n",
            "1/P_1: 3.0834808349609375\n",
            "2/P_2: 4.312934875488281\n",
            "2/P_0: 2.2984237670898438\n",
            "2/P_1: 1.2292938232421875\n",
            "3/P_0: 0.996337890625\n",
            "3/P_1: 0.2228546142578125\n",
            "3/P_2: 2.85345458984375\n",
            "4/P_0: 0.3845367431640625\n",
            "4/P_1: 0.2854156494140625\n",
            "4/P_2: 0.5803375244140625\n",
            "5/P_1: 0.0452423095703125\n",
            "5/P_2: 0.3499603271484375\n",
            "5/P_0: 0.5256729125976562\n",
            "6/P_1: 0.0102081298828125\n",
            "6/P_2: 0.058563232421875\n",
            "6/P_0: 0.0540771484375\n",
            "7/P_2: 0.0\n",
            "7/P_1: 0.0504608154296875\n",
            "7/P_0: 0.15532684326171875\n",
            "8/P_1: 0.0941162109375\n",
            "8/P_0: 0.05609130859375\n",
            "8/P_2: 0.60101318359375\n",
            "9/P_0: 0.0\n",
            "9/P_1: 0.0\n",
            "9/P_2: 0.0\n",
            "{'model1_test_loss': DeviceArray(0.06982932, dtype=float32), 'model2_test_loss': DeviceArray(0.07259545, dtype=float32), 'model2_permuted_test_loss': DeviceArray(0.07259545, dtype=float32), 'bump_1_to_2': DeviceArray(1.4929029, dtype=float32), 'bump_1_to_2perm': DeviceArray(0.5490256, dtype=float32), 'bump_2_to_2perm': DeviceArray(1.4824743, dtype=float32), 'LR': 0.010000000000000005, 'optimizer': 'sgd', 'epochs': 50}\n",
            "*****************************************\n",
            "Experiment 7 / 10\n",
            "--------------------------\n",
            "Starting run 0\n",
            "train_ds labels hash 1633421567493271265\n",
            "test_ds labels hash -755657542732042722\n",
            "num_train_examples 60000\n",
            "num_test_examples 10000\n"
          ]
        },
        {
          "output_type": "stream",
          "name": "stderr",
          "text": [
            "100%|██████████| 50/50 [00:12<00:00,  4.09it/s]\n"
          ]
        },
        {
          "output_type": "stream",
          "name": "stdout",
          "text": [
            "-----------------\n",
            "Run 0 DONE!\n",
            "Run=0 test loss=0.065835140645504 test accuracy=0.9797000288963318 train loss=0.004712184891104698 train accuracy=0.9997833371162415\n",
            "--------------------------\n",
            "Starting run 1\n",
            "train_ds labels hash 1633421567493271265\n",
            "test_ds labels hash -755657542732042722\n",
            "num_train_examples 60000\n",
            "num_test_examples 10000\n"
          ]
        },
        {
          "output_type": "stream",
          "name": "stderr",
          "text": [
            "100%|██████████| 50/50 [00:12<00:00,  4.01it/s]\n"
          ]
        },
        {
          "output_type": "stream",
          "name": "stdout",
          "text": [
            "-----------------\n",
            "Run 1 DONE!\n",
            "Run=1 test loss=0.07050897926092148 test accuracy=0.9800000190734863 train loss=0.004859945736825466 train accuracy=0.999750018119812\n",
            "0/P_0: 99.5239028930664\n",
            "0/P_1: 51.72739028930664\n",
            "0/P_2: 40.31602478027344\n",
            "1/P_0: 10.6776123046875\n",
            "1/P_2: 0.0\n",
            "1/P_1: 5.99505615234375\n",
            "2/P_2: 6.1670074462890625\n",
            "2/P_0: 3.8276214599609375\n",
            "2/P_1: 1.4300384521484375\n",
            "3/P_0: 1.1247711181640625\n",
            "3/P_1: 0.3125762939453125\n",
            "3/P_2: 2.0602340698242188\n",
            "4/P_0: 0.39075469970703125\n",
            "4/P_1: 0.4501495361328125\n",
            "4/P_2: 0.981536865234375\n",
            "5/P_1: 0.1571044921875\n",
            "5/P_2: 0.8170013427734375\n",
            "5/P_0: 0.7739410400390625\n",
            "6/P_1: 0.04296875\n",
            "6/P_2: 0.46977996826171875\n",
            "6/P_0: 0.15464019775390625\n",
            "7/P_2: 0.0\n",
            "7/P_1: 0.047515869140625\n",
            "7/P_0: 0.085205078125\n",
            "8/P_1: 0.151763916015625\n",
            "8/P_0: 0.31259918212890625\n",
            "8/P_2: 0.7467498779296875\n",
            "9/P_0: 0.0\n",
            "9/P_1: 0.043212890625\n",
            "9/P_2: 0.2522735595703125\n",
            "10/P_2: 0.0\n",
            "10/P_0: 0.18183135986328125\n",
            "10/P_1: 0.1337890625\n",
            "11/P_0: 0.081939697265625\n",
            "11/P_2: 0.273284912109375\n",
            "11/P_1: 0.006072998046875\n",
            "12/P_0: 0.15252685546875\n",
            "12/P_1: 0.1476287841796875\n",
            "12/P_2: 0.4336090087890625\n",
            "13/P_2: 0.0\n",
            "13/P_1: 0.0202484130859375\n",
            "13/P_0: 0.245819091796875\n",
            "14/P_0: 0.0\n",
            "14/P_2: 0.28034210205078125\n",
            "14/P_1: 0.0399017333984375\n",
            "15/P_1: 0.0\n",
            "15/P_0: 0.22061920166015625\n",
            "15/P_2: 0.19991302490234375\n",
            "16/P_1: 0.0449371337890625\n",
            "16/P_2: 0.191558837890625\n",
            "16/P_0: 0.172760009765625\n",
            "17/P_0: 0.0\n",
            "17/P_2: 0.0\n",
            "17/P_1: 0.10009765625\n",
            "18/P_0: 0.12430572509765625\n",
            "18/P_1: 0.0\n",
            "18/P_2: 0.2329864501953125\n",
            "19/P_0: 0.0\n",
            "19/P_1: 0.00689697265625\n",
            "19/P_2: 0.1043548583984375\n",
            "20/P_2: 0.0\n",
            "20/P_1: 0.0105743408203125\n",
            "20/P_0: 0.1759490966796875\n",
            "21/P_2: 0.13549041748046875\n",
            "21/P_1: 0.0\n",
            "21/P_0: 0.0\n",
            "22/P_2: 0.0\n",
            "22/P_1: 0.0\n",
            "22/P_0: 0.0\n",
            "{'model1_test_loss': DeviceArray(0.06583514, dtype=float32), 'model2_test_loss': DeviceArray(0.07050898, dtype=float32), 'model2_permuted_test_loss': DeviceArray(0.07050898, dtype=float32), 'bump_1_to_2': DeviceArray(1.2120147, dtype=float32), 'bump_1_to_2perm': DeviceArray(0.268737, dtype=float32), 'bump_2_to_2perm': DeviceArray(1.1317441, dtype=float32), 'LR': 0.02154434690031885, 'optimizer': 'sgd', 'epochs': 50}\n",
            "*****************************************\n",
            "Experiment 8 / 10\n",
            "--------------------------\n",
            "Starting run 0\n",
            "train_ds labels hash 1633421567493271265\n",
            "test_ds labels hash -755657542732042722\n",
            "num_train_examples 60000\n",
            "num_test_examples 10000\n"
          ]
        },
        {
          "output_type": "stream",
          "name": "stderr",
          "text": [
            "100%|██████████| 50/50 [00:12<00:00,  4.07it/s]\n"
          ]
        },
        {
          "output_type": "stream",
          "name": "stdout",
          "text": [
            "-----------------\n",
            "Run 0 DONE!\n",
            "Run=0 test loss=0.07439111918210983 test accuracy=0.9824000597000122 train loss=0.0008307584212161601 train accuracy=1.0\n",
            "--------------------------\n",
            "Starting run 1\n",
            "train_ds labels hash 1633421567493271265\n",
            "test_ds labels hash -755657542732042722\n",
            "num_train_examples 60000\n",
            "num_test_examples 10000\n"
          ]
        },
        {
          "output_type": "stream",
          "name": "stderr",
          "text": [
            "100%|██████████| 50/50 [00:12<00:00,  3.99it/s]\n"
          ]
        },
        {
          "output_type": "stream",
          "name": "stdout",
          "text": [
            "-----------------\n",
            "Run 1 DONE!\n",
            "Run=1 test loss=0.0690816342830658 test accuracy=0.9819000363349915 train loss=0.0007862721686251462 train accuracy=1.0\n",
            "0/P_0: 105.5983657836914\n",
            "0/P_1: 55.666866302490234\n",
            "0/P_2: 49.661285400390625\n",
            "1/P_0: 9.801956176757812\n",
            "1/P_2: 0.0\n",
            "1/P_1: 6.72955322265625\n",
            "2/P_2: 6.4288177490234375\n",
            "2/P_0: 4.183097839355469\n",
            "2/P_1: 2.136322021484375\n",
            "3/P_0: 1.5658416748046875\n",
            "3/P_1: 0.7999725341796875\n",
            "3/P_2: 3.4746551513671875\n",
            "4/P_0: 0.7492523193359375\n",
            "4/P_1: 1.038665771484375\n",
            "4/P_2: 2.0454254150390625\n",
            "5/P_1: 0.48126220703125\n",
            "5/P_2: 1.4157562255859375\n",
            "5/P_0: 1.638641357421875\n",
            "6/P_1: 0.459625244140625\n",
            "6/P_2: 0.6843414306640625\n",
            "6/P_0: 0.401153564453125\n",
            "7/P_2: 0.0\n",
            "7/P_1: 0.229766845703125\n",
            "7/P_0: 0.17144775390625\n",
            "8/P_1: 0.00146484375\n",
            "8/P_0: 0.0770416259765625\n",
            "8/P_2: 0.5010452270507812\n",
            "9/P_0: 0.0\n",
            "9/P_1: 0.05487060546875\n",
            "9/P_2: 0.1302642822265625\n",
            "10/P_2: 0.0\n",
            "10/P_0: 0.15606689453125\n",
            "10/P_1: 0.0\n",
            "11/P_0: 0.0\n",
            "11/P_2: 0.0\n",
            "11/P_1: 0.0\n",
            "{'model1_test_loss': DeviceArray(0.07439112, dtype=float32), 'model2_test_loss': DeviceArray(0.06908163, dtype=float32), 'model2_permuted_test_loss': DeviceArray(0.06908163, dtype=float32), 'bump_1_to_2': DeviceArray(0.8932193, dtype=float32), 'bump_1_to_2perm': DeviceArray(0.10648466, dtype=float32), 'bump_2_to_2perm': DeviceArray(0.8892897, dtype=float32), 'LR': 0.046415888336127815, 'optimizer': 'sgd', 'epochs': 50}\n",
            "*****************************************\n",
            "Experiment 9 / 10\n",
            "--------------------------\n",
            "Starting run 0\n",
            "train_ds labels hash 1633421567493271265\n",
            "test_ds labels hash -755657542732042722\n",
            "num_train_examples 60000\n",
            "num_test_examples 10000\n"
          ]
        },
        {
          "output_type": "stream",
          "name": "stderr",
          "text": [
            "100%|██████████| 50/50 [00:12<00:00,  4.04it/s]\n"
          ]
        },
        {
          "output_type": "stream",
          "name": "stdout",
          "text": [
            "-----------------\n",
            "Run 0 DONE!\n",
            "Run=0 test loss=0.07707599550485611 test accuracy=0.9844000339508057 train loss=0.00019313010852783918 train accuracy=1.0\n",
            "--------------------------\n",
            "Starting run 1\n",
            "train_ds labels hash 1633421567493271265\n",
            "test_ds labels hash -755657542732042722\n",
            "num_train_examples 60000\n",
            "num_test_examples 10000\n"
          ]
        },
        {
          "output_type": "stream",
          "name": "stderr",
          "text": [
            "100%|██████████| 50/50 [00:12<00:00,  4.02it/s]\n"
          ]
        },
        {
          "output_type": "stream",
          "name": "stdout",
          "text": [
            "-----------------\n",
            "Run 1 DONE!\n",
            "Run=1 test loss=0.08073729276657104 test accuracy=0.982200026512146 train loss=0.00018316753266844898 train accuracy=1.0\n",
            "0/P_0: 125.01105499267578\n",
            "0/P_1: 65.07474517822266\n",
            "0/P_2: 59.9329833984375\n",
            "1/P_0: 9.52996826171875\n",
            "1/P_2: 0.0\n",
            "1/P_1: 11.163482666015625\n",
            "2/P_2: 7.297615051269531\n",
            "2/P_0: 3.7772064208984375\n",
            "2/P_1: 2.0542755126953125\n",
            "3/P_0: 1.193450927734375\n",
            "3/P_1: 0.8897705078125\n",
            "3/P_2: 4.21124267578125\n",
            "4/P_0: 0.389862060546875\n",
            "4/P_1: 1.000457763671875\n",
            "4/P_2: 2.1641845703125\n",
            "5/P_1: 0.29144287109375\n",
            "5/P_2: 0.68157958984375\n",
            "5/P_0: 0.96112060546875\n",
            "6/P_1: 0.48089599609375\n",
            "6/P_2: 0.6031036376953125\n",
            "6/P_0: 0.279449462890625\n",
            "7/P_2: 0.0\n",
            "7/P_1: 0.4127197265625\n",
            "7/P_0: 0.2872161865234375\n",
            "8/P_1: 0.1057586669921875\n",
            "8/P_0: 0.0909423828125\n",
            "8/P_2: 0.5677642822265625\n",
            "9/P_0: 0.0\n",
            "9/P_1: 0.1572265625\n",
            "9/P_2: 0.295989990234375\n",
            "10/P_2: 0.0\n",
            "10/P_0: 0.0204010009765625\n",
            "10/P_1: 0.08721923828125\n",
            "11/P_0: 0.11126708984375\n",
            "11/P_2: 0.1881561279296875\n",
            "11/P_1: 0.01812744140625\n",
            "12/P_0: 0.11505126953125\n",
            "12/P_1: 0.0\n",
            "12/P_2: 0.149749755859375\n",
            "13/P_2: 0.0\n",
            "13/P_1: 0.0\n",
            "13/P_0: 0.0\n",
            "{'model1_test_loss': DeviceArray(0.077076, dtype=float32), 'model2_test_loss': DeviceArray(0.08073729, dtype=float32), 'model2_permuted_test_loss': DeviceArray(0.08073729, dtype=float32), 'bump_1_to_2': DeviceArray(0.74193394, dtype=float32), 'bump_1_to_2perm': DeviceArray(0.08839127, dtype=float32), 'bump_2_to_2perm': DeviceArray(0.68023205, dtype=float32), 'LR': 0.10000000000000002, 'optimizer': 'sgd', 'epochs': 50}\n"
          ]
        }
      ]
    },
    {
      "cell_type": "code",
      "source": [
        "standard_bumps = np.array([d[\"bump_1_to_2\"] for d in stored_results_dict])\n",
        "permuted_bumps = np.array([d[\"bump_1_to_2perm\"] for d in stored_results_dict])\n",
        "model1_loss = np.array([d[\"model1_test_loss\"] for d in stored_results_dict])\n",
        "model2_loss = np.array([d[\"model2_test_loss\"] for d in stored_results_dict])\n",
        "\n",
        "standard_bumps = np.reshape(standard_bumps,[reps,-1])\n",
        "permuted_bumps = np.reshape(permuted_bumps,[reps,-1])\n",
        "model1_loss = np.reshape(model1_loss,[reps,-1])\n",
        "model2_loss = np.reshape(model2_loss,[reps,-1])\n",
        "\n",
        "def get_mean_and_error(vals):\n",
        "  return np.mean(vals,axis=0), np.std(vals,axis=0)\n",
        "\n",
        "mean_standard_bumps, error_standard_bumps = get_mean_and_error(standard_bumps)\n",
        "mean_permuted_bumps, error_permuted_bumps = get_mean_and_error(permuted_bumps)\n",
        "mean_model1_loss, error_model1_loss = get_mean_and_error(model1_loss)\n",
        "mean_model2_loss, error_model2_loss = get_mean_and_error(model2_loss)\n",
        "\n",
        "fig = plt.figure(figsize = (5,4),dpi=100)\n",
        "fig.patch.set_facecolor('white')\n",
        "\n",
        "plt.title(f\"Learning rate effect on Git Re-Basin\\nMLP on MNIST, SGD, {epochs} epochs\",fontsize=14)\n",
        "\n",
        "line, = plt.semilogx(LRs[:len(mean_standard_bumps)],(mean_model1_loss+mean_model2_loss)/2.0,marker=\"o\",color=\"black\",linestyle=\"--\",label=\"Model itself\")\n",
        "plt.fill_between(LRs[:len(mean_standard_bumps)],\n",
        "                 (mean_model1_loss+mean_model2_loss)/2.0-(error_model1_loss+error_model2_loss)/2.0,\n",
        "                 (mean_model1_loss+mean_model2_loss)/2.0+(error_model1_loss+error_model2_loss)/2.0,\n",
        "                 color=line.get_color(),\n",
        "                 alpha=0.3\n",
        "                 )\n",
        "\n",
        "line, = plt.semilogx(LRs[:len(mean_standard_bumps)],mean_standard_bumps,marker=\"s\",color=\"navy\",label=\"Between models\")\n",
        "plt.fill_between(LRs[:len(mean_standard_bumps)],mean_standard_bumps-error_standard_bumps,mean_standard_bumps+error_standard_bumps,alpha=0.3,color=line.get_color())\n",
        "\n",
        "line, = plt.semilogx(LRs[:len(mean_standard_bumps)],mean_permuted_bumps,marker=\"^\",color=\"crimson\",label=\"Between model\\nand perm\")\n",
        "plt.fill_between(LRs[:len(mean_standard_bumps)],mean_permuted_bumps-error_permuted_bumps,mean_permuted_bumps+error_permuted_bumps,alpha=0.3,color=line.get_color())\n",
        "\n",
        "from matplotlib.patches import Rectangle\n",
        "currentAxis = plt.gca()\n",
        "currentAxis.add_patch(Rectangle((LRs[-3], 0.0),0.1,2.0, fill=True, color=\"green\", alpha=0.3))\n",
        "\n",
        "plt.xticks(fontsize=14)\n",
        "plt.yticks(fontsize=14)\n",
        "\n",
        "plt.xlabel(\"Learning rate\",fontsize=16)\n",
        "plt.ylabel(\"Test set loss\",fontsize=16)\n",
        "\n",
        "plt.legend(fontsize=10)\n",
        "plt.show()"
      ],
      "metadata": {
        "colab": {
          "base_uri": "https://localhost:8080/",
          "height": 441
        },
        "id": "lRkfW5DhGAGi",
        "outputId": "8c4e1703-70e1-4de0-b169-b8030521408b"
      },
      "execution_count": 123,
      "outputs": [
        {
          "output_type": "display_data",
          "data": {
            "text/plain": [
              "<Figure size 500x400 with 1 Axes>"
            ],
            "image/png": "[encoded data removed]"
          },
          "metadata": {}
        }
      ]
    },
    {
      "cell_type": "markdown",
      "source": [
        "## Adam Experimental sweep"
      ],
      "metadata": {
        "id": "N1nlUe72Thk1"
      }
    },
    {
      "cell_type": "code",
      "source": [
        "reps = 1\n",
        "LRs = np.exp(np.linspace(np.log(0.5*1e-2),np.log(0.04),10))\n",
        "optimizers = [\"adam\"]\n",
        "epochs = 50"
      ],
      "metadata": {
        "id": "k030Hzy8SkWF"
      },
      "execution_count": 112,
      "outputs": []
    },
    {
      "cell_type": "code",
      "source": [
        "all_flattened_models_tuples = [] # collecting all solutions every\n",
        "stored_results_dict = []\n",
        "\n",
        "for rep in range(reps): # to get error bars\n",
        "  for i_opt, optimizer in enumerate(optimizers):\n",
        "    for i_LR, LR in enumerate(LRs):\n",
        "\n",
        "      print(\"*****************************************\")\n",
        "      print(f\"Experiment {len(stored_results_dict)} / {reps*len(optimizers)*len(LRs)}\")\n",
        "\n",
        "      flattened_models_list = get_optima(\n",
        "          num_epochs = epochs,\n",
        "          config_optimizer = optimizer,\n",
        "          learning_rate = LR,\n",
        "          seed = int(np.random.rand()*100000000),\n",
        "          )\n",
        "      \n",
        "      flattened_model1 = flattened_models_list[0]\n",
        "      flattened_model2 = flattened_models_list[1]\n",
        "      results_dict = analyze_optima(flattened_model1,flattened_model2)\n",
        "\n",
        "      results_dict[\"LR\"] = LR\n",
        "      results_dict[\"optimizer\"] = optimizer\n",
        "      results_dict[\"epochs\"] = epochs\n",
        "      \n",
        "      stored_results_dict.append(results_dict)\n",
        "      all_flattened_models_tuples.append(flattened_models_list)\n",
        "\n",
        "      print(results_dict)"
      ],
      "metadata": {
        "colab": {
          "base_uri": "https://localhost:8080/"
        },
        "outputId": "b54fc681-6087-4c64-ad0b-d7df020c8de0",
        "id": "JM5JFTJISkWR"
      },
      "execution_count": 113,
      "outputs": [
        {
          "output_type": "stream",
          "name": "stdout",
          "text": [
            "*****************************************\n",
            "Experiment 0 / 10\n",
            "--------------------------\n",
            "Starting run 0\n",
            "train_ds labels hash 1633421567493271265\n",
            "test_ds labels hash -755657542732042722\n",
            "num_train_examples 60000\n",
            "num_test_examples 10000\n"
          ]
        },
        {
          "output_type": "stream",
          "name": "stderr",
          "text": [
            "100%|██████████| 50/50 [00:12<00:00,  3.92it/s]\n"
          ]
        },
        {
          "output_type": "stream",
          "name": "stdout",
          "text": [
            "-----------------\n",
            "Run 0 DONE!\n",
            "Run=0 test loss=0.19320808351039886 test accuracy=0.9793000221252441 train loss=0.014448828063905239 train accuracy=0.9976500272750854\n",
            "--------------------------\n",
            "Starting run 1\n",
            "train_ds labels hash 1633421567493271265\n",
            "test_ds labels hash -755657542732042722\n",
            "num_train_examples 60000\n",
            "num_test_examples 10000\n"
          ]
        },
        {
          "output_type": "stream",
          "name": "stderr",
          "text": [
            "100%|██████████| 50/50 [00:12<00:00,  3.94it/s]\n"
          ]
        },
        {
          "output_type": "stream",
          "name": "stdout",
          "text": [
            "-----------------\n",
            "Run 1 DONE!\n",
            "Run=1 test loss=0.16357706487178802 test accuracy=0.9788000583648682 train loss=0.013633685186505318 train accuracy=0.9970999956130981\n",
            "0/P_0: 7807.2294921875\n",
            "0/P_1: 2882.59130859375\n",
            "0/P_2: 778.112548828125\n",
            "1/P_0: 30.470703125\n",
            "1/P_2: 0.0\n",
            "1/P_1: 57.0576171875\n",
            "2/P_2: 58.51220703125\n",
            "2/P_0: 3.95703125\n",
            "2/P_1: 14.72021484375\n",
            "3/P_0: 1.83203125\n",
            "3/P_1: 0.0029296875\n",
            "3/P_2: 25.2197265625\n",
            "4/P_0: 0.064453125\n",
            "4/P_1: 4.38134765625\n",
            "4/P_2: 7.2431640625\n",
            "5/P_1: 2.513671875\n",
            "5/P_2: 16.070068359375\n",
            "5/P_0: 1.958984375\n",
            "6/P_1: 1.6171875\n",
            "6/P_2: 2.3212890625\n",
            "6/P_0: 0.462890625\n",
            "7/P_2: 0.0\n",
            "7/P_1: 0.34765625\n",
            "7/P_0: 0.5234375\n",
            "8/P_1: 0.05810546875\n",
            "8/P_0: 0.033203125\n",
            "8/P_2: 2.71923828125\n",
            "9/P_0: 0.0\n",
            "9/P_1: 0.5966796875\n",
            "9/P_2: 0.99169921875\n",
            "10/P_2: 0.0\n",
            "10/P_0: 0.1953125\n",
            "10/P_1: 0.22900390625\n",
            "11/P_0: 0.015625\n",
            "11/P_2: 0.090087890625\n",
            "11/P_1: 0.0\n",
            "12/P_0: 0.0\n",
            "12/P_1: 0.0\n",
            "12/P_2: 0.0\n",
            "{'model1_test_loss': DeviceArray(0.19320808, dtype=float32), 'model2_test_loss': DeviceArray(0.16357706, dtype=float32), 'model2_permuted_test_loss': DeviceArray(0.16357706, dtype=float32), 'bump_1_to_2': DeviceArray(2.1625931, dtype=float32), 'bump_1_to_2perm': DeviceArray(0.09599764, dtype=float32), 'bump_2_to_2perm': DeviceArray(2.1800702, dtype=float32), 'LR': 0.005000000000000002, 'optimizer': 'adam', 'epochs': 50}\n",
            "*****************************************\n",
            "Experiment 1 / 10\n",
            "--------------------------\n",
            "Starting run 0\n",
            "train_ds labels hash 1633421567493271265\n",
            "test_ds labels hash -755657542732042722\n",
            "num_train_examples 60000\n",
            "num_test_examples 10000\n"
          ]
        },
        {
          "output_type": "stream",
          "name": "stderr",
          "text": [
            "100%|██████████| 50/50 [00:12<00:00,  3.96it/s]\n"
          ]
        },
        {
          "output_type": "stream",
          "name": "stdout",
          "text": [
            "-----------------\n",
            "Run 0 DONE!\n",
            "Run=0 test loss=0.17744825780391693 test accuracy=0.9806000590324402 train loss=0.007913080044090748 train accuracy=0.998033344745636\n",
            "--------------------------\n",
            "Starting run 1\n",
            "train_ds labels hash 1633421567493271265\n",
            "test_ds labels hash -755657542732042722\n",
            "num_train_examples 60000\n",
            "num_test_examples 10000\n"
          ]
        },
        {
          "output_type": "stream",
          "name": "stderr",
          "text": [
            "100%|██████████| 50/50 [00:12<00:00,  4.02it/s]\n"
          ]
        },
        {
          "output_type": "stream",
          "name": "stdout",
          "text": [
            "-----------------\n",
            "Run 1 DONE!\n",
            "Run=1 test loss=0.2338387817144394 test accuracy=0.978100061416626 train loss=0.013179200701415539 train accuracy=0.9973833560943604\n",
            "0/P_0: 9584.2412109375\n",
            "0/P_1: 3353.629150390625\n",
            "0/P_2: 948.344482421875\n",
            "1/P_0: 71.990234375\n",
            "1/P_2: 0.0\n",
            "1/P_1: 76.70654296875\n",
            "2/P_2: 56.988525390625\n",
            "2/P_0: 9.287109375\n",
            "2/P_1: 18.310546875\n",
            "3/P_0: 4.1953125\n",
            "3/P_1: 0.2451171875\n",
            "3/P_2: 35.262451171875\n",
            "4/P_0: 0.7138671875\n",
            "4/P_1: 5.5986328125\n",
            "4/P_2: 5.65478515625\n",
            "5/P_1: 2.986328125\n",
            "5/P_2: 4.5\n",
            "5/P_0: 2.751953125\n",
            "6/P_1: 0.26123046875\n",
            "6/P_2: 1.06591796875\n",
            "6/P_0: 0.576171875\n",
            "7/P_2: 0.0\n",
            "7/P_1: 0.07275390625\n",
            "7/P_0: 0.0517578125\n",
            "8/P_1: 0.05224609375\n",
            "8/P_0: 0.09765625\n",
            "8/P_2: 0.12109375\n",
            "9/P_0: 0.0\n",
            "9/P_1: 0.03955078125\n",
            "9/P_2: 1.669189453125\n",
            "10/P_2: 0.0\n",
            "10/P_0: 0.099609375\n",
            "10/P_1: 0.04638671875\n",
            "11/P_0: 0.15625\n",
            "11/P_2: 0.08642578125\n",
            "11/P_1: 0.01953125\n",
            "12/P_0: 0.064453125\n",
            "12/P_1: 0.0\n",
            "12/P_2: 0.015625\n",
            "13/P_2: 0.0\n",
            "13/P_1: 0.0\n",
            "13/P_0: 0.0\n",
            "{'model1_test_loss': DeviceArray(0.17744826, dtype=float32), 'model2_test_loss': DeviceArray(0.23383878, dtype=float32), 'model2_permuted_test_loss': DeviceArray(0.23383878, dtype=float32), 'bump_1_to_2': DeviceArray(1.8991497, dtype=float32), 'bump_1_to_2perm': DeviceArray(0.12278979, dtype=float32), 'bump_2_to_2perm': DeviceArray(1.9601688, dtype=float32), 'LR': 0.006299605249474366, 'optimizer': 'adam', 'epochs': 50}\n",
            "*****************************************\n",
            "Experiment 2 / 10\n",
            "--------------------------\n",
            "Starting run 0\n",
            "train_ds labels hash 1633421567493271265\n",
            "test_ds labels hash -755657542732042722\n",
            "num_train_examples 60000\n",
            "num_test_examples 10000\n"
          ]
        },
        {
          "output_type": "stream",
          "name": "stderr",
          "text": [
            "100%|██████████| 50/50 [00:12<00:00,  3.97it/s]\n"
          ]
        },
        {
          "output_type": "stream",
          "name": "stdout",
          "text": [
            "-----------------\n",
            "Run 0 DONE!\n",
            "Run=0 test loss=0.19210897386074066 test accuracy=0.9798000454902649 train loss=0.015034694224596024 train accuracy=0.9970333576202393\n",
            "--------------------------\n",
            "Starting run 1\n",
            "train_ds labels hash 1633421567493271265\n",
            "test_ds labels hash -755657542732042722\n",
            "num_train_examples 60000\n",
            "num_test_examples 10000\n"
          ]
        },
        {
          "output_type": "stream",
          "name": "stderr",
          "text": [
            "100%|██████████| 50/50 [00:12<00:00,  3.94it/s]\n"
          ]
        },
        {
          "output_type": "stream",
          "name": "stdout",
          "text": [
            "-----------------\n",
            "Run 1 DONE!\n",
            "Run=1 test loss=0.1682424694299698 test accuracy=0.9798000454902649 train loss=0.015642572194337845 train accuracy=0.9967166781425476\n",
            "0/P_0: 10331.5849609375\n",
            "0/P_1: 4115.318359375\n",
            "0/P_2: 1213.55859375\n",
            "1/P_0: 45.83203125\n",
            "1/P_2: 0.0\n",
            "1/P_1: 69.5458984375\n",
            "2/P_2: 61.57421875\n",
            "2/P_0: 7.8603515625\n",
            "2/P_1: 11.197265625\n",
            "3/P_0: 4.40625\n",
            "3/P_1: 0.0\n",
            "3/P_2: 9.88037109375\n",
            "4/P_0: 0.0\n",
            "4/P_1: 4.58984375\n",
            "4/P_2: 6.2626953125\n",
            "5/P_1: 3.150390625\n",
            "5/P_2: 7.451171875\n",
            "5/P_0: 2.380859375\n",
            "6/P_1: 4.28515625\n",
            "6/P_2: 4.35693359375\n",
            "6/P_0: 2.865234375\n",
            "7/P_2: 0.0\n",
            "7/P_1: 1.4150390625\n",
            "7/P_0: 0.6640625\n",
            "8/P_1: 0.0537109375\n",
            "8/P_0: 0.640625\n",
            "8/P_2: 0.77734375\n",
            "9/P_0: 0.0\n",
            "9/P_1: 0.6337890625\n",
            "9/P_2: 1.24365234375\n",
            "10/P_2: 0.0\n",
            "10/P_0: 1.1376953125\n",
            "10/P_1: 0.30859375\n",
            "11/P_0: 0.3212890625\n",
            "11/P_2: 0.1259765625\n",
            "11/P_1: 0.07421875\n",
            "12/P_0: 0.19140625\n",
            "12/P_1: 0.0068359375\n",
            "12/P_2: 0.64794921875\n",
            "13/P_2: 0.0\n",
            "13/P_1: 0.3720703125\n",
            "13/P_0: 0.3203125\n",
            "14/P_0: 0.0\n",
            "14/P_2: 0.1142578125\n",
            "14/P_1: 0.384765625\n",
            "15/P_1: 0.0\n",
            "15/P_0: 0.3984375\n",
            "15/P_2: 0.32373046875\n",
            "16/P_1: 0.0712890625\n",
            "16/P_2: 0.03125\n",
            "16/P_0: 0.0732421875\n",
            "17/P_0: 0.0\n",
            "17/P_2: 0.0\n",
            "17/P_1: 0.0\n",
            "{'model1_test_loss': DeviceArray(0.19210897, dtype=float32), 'model2_test_loss': DeviceArray(0.16824247, dtype=float32), 'model2_permuted_test_loss': DeviceArray(0.16824242, dtype=float32), 'bump_1_to_2': DeviceArray(1.8624554, dtype=float32), 'bump_1_to_2perm': DeviceArray(0.14788778, dtype=float32), 'bump_2_to_2perm': DeviceArray(1.7530528, dtype=float32), 'LR': 0.007937005259840996, 'optimizer': 'adam', 'epochs': 50}\n",
            "*****************************************\n",
            "Experiment 3 / 10\n",
            "--------------------------\n",
            "Starting run 0\n",
            "train_ds labels hash 1633421567493271265\n",
            "test_ds labels hash -755657542732042722\n",
            "num_train_examples 60000\n",
            "num_test_examples 10000\n"
          ]
        },
        {
          "output_type": "stream",
          "name": "stderr",
          "text": [
            "100%|██████████| 50/50 [00:12<00:00,  3.99it/s]\n"
          ]
        },
        {
          "output_type": "stream",
          "name": "stdout",
          "text": [
            "-----------------\n",
            "Run 0 DONE!\n",
            "Run=0 test loss=0.21782423555850983 test accuracy=0.9760000705718994 train loss=0.03651091083884239 train accuracy=0.9946500062942505\n",
            "--------------------------\n",
            "Starting run 1\n",
            "train_ds labels hash 1633421567493271265\n",
            "test_ds labels hash -755657542732042722\n",
            "num_train_examples 60000\n",
            "num_test_examples 10000\n"
          ]
        },
        {
          "output_type": "stream",
          "name": "stderr",
          "text": [
            "100%|██████████| 50/50 [00:12<00:00,  3.99it/s]\n"
          ]
        },
        {
          "output_type": "stream",
          "name": "stdout",
          "text": [
            "-----------------\n",
            "Run 1 DONE!\n",
            "Run=1 test loss=0.2368117719888687 test accuracy=0.9720000624656677 train loss=0.031393591314554214 train accuracy=0.9930166602134705\n",
            "0/P_0: 11727.51171875\n",
            "0/P_1: 4978.77490234375\n",
            "0/P_2: 1348.96240234375\n",
            "1/P_0: 70.095703125\n",
            "1/P_2: 0.0\n",
            "1/P_1: 112.45703125\n",
            "2/P_2: 82.04638671875\n",
            "2/P_0: 13.0078125\n",
            "2/P_1: 23.7763671875\n",
            "3/P_0: 6.84375\n",
            "3/P_1: 0.2939453125\n",
            "3/P_2: 21.171875\n",
            "4/P_0: 0.7841796875\n",
            "4/P_1: 9.845703125\n",
            "4/P_2: 12.251953125\n",
            "5/P_1: 4.703125\n",
            "5/P_2: 7.50048828125\n",
            "5/P_0: 4.732421875\n",
            "6/P_1: 0.677734375\n",
            "6/P_2: 0.0859375\n",
            "6/P_0: 0.9921875\n",
            "7/P_2: 0.0\n",
            "7/P_1: 0.2744140625\n",
            "7/P_0: 0.7841796875\n",
            "8/P_1: 0.0\n",
            "8/P_0: 0.0\n",
            "8/P_2: 0.3603515625\n",
            "9/P_0: 0.0\n",
            "9/P_1: 0.2490234375\n",
            "9/P_2: 0.30126953125\n",
            "10/P_2: 0.0\n",
            "10/P_0: 0.2958984375\n",
            "10/P_1: 0.087890625\n",
            "11/P_0: 0.3505859375\n",
            "11/P_2: 0.994140625\n",
            "11/P_1: 1.892578125\n",
            "12/P_0: 1.4091796875\n",
            "12/P_1: 0.162109375\n",
            "12/P_2: 9.25439453125\n",
            "13/P_2: 0.0\n",
            "13/P_1: 2.2099609375\n",
            "13/P_0: 1.369140625\n",
            "14/P_0: 0.0\n",
            "14/P_2: 1.05322265625\n",
            "14/P_1: 0.515625\n",
            "15/P_1: 0.0\n",
            "15/P_0: 0.4287109375\n",
            "15/P_2: 0.17041015625\n",
            "16/P_1: 0.125\n",
            "16/P_2: 0.0\n",
            "16/P_0: 0.072265625\n",
            "17/P_0: 0.0\n",
            "17/P_2: 0.0\n",
            "17/P_1: 0.0\n",
            "{'model1_test_loss': DeviceArray(0.21782424, dtype=float32), 'model2_test_loss': DeviceArray(0.23681177, dtype=float32), 'model2_permuted_test_loss': DeviceArray(0.23681177, dtype=float32), 'bump_1_to_2': DeviceArray(1.9289298, dtype=float32), 'bump_1_to_2perm': DeviceArray(0.24365641, dtype=float32), 'bump_2_to_2perm': DeviceArray(2.0663354, dtype=float32), 'LR': 0.010000000000000005, 'optimizer': 'adam', 'epochs': 50}\n",
            "*****************************************\n",
            "Experiment 4 / 10\n",
            "--------------------------\n",
            "Starting run 0\n",
            "train_ds labels hash 1633421567493271265\n",
            "test_ds labels hash -755657542732042722\n",
            "num_train_examples 60000\n",
            "num_test_examples 10000\n"
          ]
        },
        {
          "output_type": "stream",
          "name": "stderr",
          "text": [
            "100%|██████████| 50/50 [00:12<00:00,  3.96it/s]\n"
          ]
        },
        {
          "output_type": "stream",
          "name": "stdout",
          "text": [
            "-----------------\n",
            "Run 0 DONE!\n",
            "Run=0 test loss=0.2616696059703827 test accuracy=0.9691000580787659 train loss=0.03131774440407753 train accuracy=0.9924166798591614\n",
            "--------------------------\n",
            "Starting run 1\n",
            "train_ds labels hash 1633421567493271265\n",
            "test_ds labels hash -755657542732042722\n",
            "num_train_examples 60000\n",
            "num_test_examples 10000\n"
          ]
        },
        {
          "output_type": "stream",
          "name": "stderr",
          "text": [
            "100%|██████████| 50/50 [00:12<00:00,  4.05it/s]\n"
          ]
        },
        {
          "output_type": "stream",
          "name": "stdout",
          "text": [
            "-----------------\n",
            "Run 1 DONE!\n",
            "Run=1 test loss=0.2120649814605713 test accuracy=0.9725000262260437 train loss=0.025349723175168037 train accuracy=0.9933500289916992\n",
            "0/P_0: 9195.962890625\n",
            "0/P_1: 6402.833984375\n",
            "0/P_2: 1899.97802734375\n",
            "1/P_0: 69.455078125\n",
            "1/P_2: 0.0\n",
            "1/P_1: 137.751953125\n",
            "2/P_2: 37.7841796875\n",
            "2/P_0: 18.431640625\n",
            "2/P_1: 20.36328125\n",
            "3/P_0: 8.36328125\n",
            "3/P_1: 0.392578125\n",
            "3/P_2: 27.724609375\n",
            "4/P_0: 0.6298828125\n",
            "4/P_1: 8.0419921875\n",
            "4/P_2: 4.7265625\n",
            "5/P_1: 3.46875\n",
            "5/P_2: 2.7060546875\n",
            "5/P_0: 5.080078125\n",
            "6/P_1: 2.029296875\n",
            "6/P_2: 0.58203125\n",
            "6/P_0: 1.62890625\n",
            "7/P_2: 0.0\n",
            "7/P_1: 0.3232421875\n",
            "7/P_0: 0.8486328125\n",
            "8/P_1: 0.234375\n",
            "8/P_0: 0.6083984375\n",
            "8/P_2: 0.2109375\n",
            "9/P_0: 0.0\n",
            "9/P_1: 0.1669921875\n",
            "9/P_2: 0.0419921875\n",
            "10/P_2: 0.0\n",
            "10/P_0: 0.13671875\n",
            "10/P_1: 0.0\n",
            "11/P_0: 0.0\n",
            "11/P_2: 0.0\n",
            "11/P_1: 0.0\n",
            "{'model1_test_loss': DeviceArray(0.2616696, dtype=float32), 'model2_test_loss': DeviceArray(0.21206498, dtype=float32), 'model2_permuted_test_loss': DeviceArray(0.21206498, dtype=float32), 'bump_1_to_2': DeviceArray(2.091868, dtype=float32), 'bump_1_to_2perm': DeviceArray(0.9631029, dtype=float32), 'bump_2_to_2perm': DeviceArray(1.8223747, dtype=float32), 'LR': 0.012599210498948734, 'optimizer': 'adam', 'epochs': 50}\n",
            "*****************************************\n",
            "Experiment 5 / 10\n",
            "--------------------------\n",
            "Starting run 0\n",
            "train_ds labels hash 1633421567493271265\n",
            "test_ds labels hash -755657542732042722\n",
            "num_train_examples 60000\n",
            "num_test_examples 10000\n"
          ]
        },
        {
          "output_type": "stream",
          "name": "stderr",
          "text": [
            "100%|██████████| 50/50 [00:12<00:00,  3.99it/s]\n"
          ]
        },
        {
          "output_type": "stream",
          "name": "stdout",
          "text": [
            "-----------------\n",
            "Run 0 DONE!\n",
            "Run=0 test loss=0.3076273500919342 test accuracy=0.9623000621795654 train loss=0.06496621668338776 train accuracy=0.9855000376701355\n",
            "--------------------------\n",
            "Starting run 1\n",
            "train_ds labels hash 1633421567493271265\n",
            "test_ds labels hash -755657542732042722\n",
            "num_train_examples 60000\n",
            "num_test_examples 10000\n"
          ]
        },
        {
          "output_type": "stream",
          "name": "stderr",
          "text": [
            "100%|██████████| 50/50 [00:12<00:00,  3.88it/s]\n"
          ]
        },
        {
          "output_type": "stream",
          "name": "stdout",
          "text": [
            "-----------------\n",
            "Run 1 DONE!\n",
            "Run=1 test loss=0.2717972993850708 test accuracy=0.9695000648498535 train loss=0.035081349313259125 train accuracy=0.9906333684921265\n",
            "0/P_0: 13710.845703125\n",
            "0/P_1: 7049.748046875\n",
            "0/P_2: 2278.1201171875\n",
            "1/P_0: 103.78515625\n",
            "1/P_2: 0.0\n",
            "1/P_1: 144.7587890625\n",
            "2/P_2: 55.396484375\n",
            "2/P_0: 24.943359375\n",
            "2/P_1: 32.3427734375\n",
            "3/P_0: 11.8828125\n",
            "3/P_1: 1.03515625\n",
            "3/P_2: 36.88671875\n",
            "4/P_0: 1.130859375\n",
            "4/P_1: 6.626953125\n",
            "4/P_2: 6.1240234375\n",
            "5/P_1: 3.8935546875\n",
            "5/P_2: 2.478515625\n",
            "5/P_0: 5.5078125\n",
            "6/P_1: 1.943359375\n",
            "6/P_2: 0.8896484375\n",
            "6/P_0: 1.828125\n",
            "7/P_2: 0.0\n",
            "7/P_1: 0.4375\n",
            "7/P_0: 0.681640625\n",
            "8/P_1: 0.08984375\n",
            "8/P_0: 0.41015625\n",
            "8/P_2: 0.3740234375\n",
            "9/P_0: 0.0\n",
            "9/P_1: 0.4462890625\n",
            "9/P_2: 0.2041015625\n",
            "10/P_2: 0.0\n",
            "10/P_0: 0.998046875\n",
            "10/P_1: 0.5087890625\n",
            "11/P_0: 0.3671875\n",
            "11/P_2: 0.009765625\n",
            "11/P_1: 0.052734375\n",
            "12/P_0: 0.015625\n",
            "12/P_1: 0.0205078125\n",
            "12/P_2: -0.0009765625\n",
            "13/P_2: 0.0\n",
            "13/P_1: 0.0283203125\n",
            "13/P_0: 0.076171875\n",
            "14/P_0: 0.0\n",
            "14/P_2: 0.1123046875\n",
            "14/P_1: 0.5\n",
            "15/P_1: 0.0\n",
            "15/P_0: 0.08984375\n",
            "15/P_2: 0.09765625\n",
            "16/P_1: 0.0\n",
            "16/P_2: 0.0\n",
            "16/P_0: 0.0\n",
            "{'model1_test_loss': DeviceArray(0.30762735, dtype=float32), 'model2_test_loss': DeviceArray(0.2717973, dtype=float32), 'model2_permuted_test_loss': DeviceArray(0.27179736, dtype=float32), 'bump_1_to_2': DeviceArray(1.8678265, dtype=float32), 'bump_1_to_2perm': DeviceArray(1.038659, dtype=float32), 'bump_2_to_2perm': DeviceArray(2.3090706, dtype=float32), 'LR': 0.015874010519681993, 'optimizer': 'adam', 'epochs': 50}\n",
            "*****************************************\n",
            "Experiment 6 / 10\n",
            "--------------------------\n",
            "Starting run 0\n",
            "train_ds labels hash 1633421567493271265\n",
            "test_ds labels hash -755657542732042722\n",
            "num_train_examples 60000\n",
            "num_test_examples 10000\n"
          ]
        },
        {
          "output_type": "stream",
          "name": "stderr",
          "text": [
            "100%|██████████| 50/50 [00:12<00:00,  3.94it/s]\n"
          ]
        },
        {
          "output_type": "stream",
          "name": "stdout",
          "text": [
            "-----------------\n",
            "Run 0 DONE!\n",
            "Run=0 test loss=0.2966727316379547 test accuracy=0.9572000503540039 train loss=0.07787275314331055 train accuracy=0.9795166850090027\n",
            "--------------------------\n",
            "Starting run 1\n",
            "train_ds labels hash 1633421567493271265\n",
            "test_ds labels hash -755657542732042722\n",
            "num_train_examples 60000\n",
            "num_test_examples 10000\n"
          ]
        },
        {
          "output_type": "stream",
          "name": "stderr",
          "text": [
            "100%|██████████| 50/50 [00:12<00:00,  3.98it/s]\n"
          ]
        },
        {
          "output_type": "stream",
          "name": "stdout",
          "text": [
            "-----------------\n",
            "Run 1 DONE!\n",
            "Run=1 test loss=0.2498445361852646 test accuracy=0.9529000520706177 train loss=0.0922274962067604 train accuracy=0.9736000299453735\n",
            "0/P_0: 10116.064453125\n",
            "0/P_1: 5990.2158203125\n",
            "0/P_2: 2391.25390625\n",
            "1/P_0: 154.4267578125\n",
            "1/P_2: 0.0\n",
            "1/P_1: 258.546875\n",
            "2/P_2: 62.80859375\n",
            "2/P_0: 43.4306640625\n",
            "2/P_1: 25.3515625\n",
            "3/P_0: 14.1728515625\n",
            "3/P_1: 3.580078125\n",
            "3/P_2: 16.6201171875\n",
            "4/P_0: 2.888671875\n",
            "4/P_1: 12.2578125\n",
            "4/P_2: 5.8388671875\n",
            "5/P_1: 4.0244140625\n",
            "5/P_2: 8.625\n",
            "5/P_0: 7.8466796875\n",
            "6/P_1: 11.80078125\n",
            "6/P_2: 6.978515625\n",
            "6/P_0: 6.353515625\n",
            "7/P_2: 0.0\n",
            "7/P_1: 4.5234375\n",
            "7/P_0: 2.54296875\n",
            "8/P_1: 0.53515625\n",
            "8/P_0: 0.3818359375\n",
            "8/P_2: 3.8427734375\n",
            "9/P_0: 0.0\n",
            "9/P_1: 2.87890625\n",
            "9/P_2: 1.4658203125\n",
            "10/P_2: 0.0\n",
            "10/P_0: 0.64453125\n",
            "10/P_1: 1.0205078125\n",
            "11/P_0: 1.2666015625\n",
            "11/P_2: 0.36328125\n",
            "11/P_1: 1.3466796875\n",
            "12/P_0: 1.1904296875\n",
            "12/P_1: 0.2666015625\n",
            "12/P_2: 0.4736328125\n",
            "13/P_2: 0.0\n",
            "13/P_1: 0.3427734375\n",
            "13/P_0: 0.322265625\n",
            "14/P_0: 0.0\n",
            "14/P_2: 0.15234375\n",
            "14/P_1: 0.1044921875\n",
            "15/P_1: 0.0\n",
            "15/P_0: 0.19140625\n",
            "15/P_2: 0.2080078125\n",
            "16/P_1: 0.052734375\n",
            "16/P_2: 0.0419921875\n",
            "16/P_0: 0.109375\n",
            "17/P_0: 0.0\n",
            "17/P_2: 0.0\n",
            "17/P_1: 0.1123046875\n",
            "18/P_0: 0.1435546875\n",
            "18/P_1: 0.0439453125\n",
            "18/P_2: 0.06640625\n",
            "19/P_0: 0.001953125\n",
            "19/P_1: 0.0\n",
            "19/P_2: 0.0\n",
            "20/P_2: 0.0\n",
            "20/P_1: 0.0\n",
            "20/P_0: 0.0\n",
            "{'model1_test_loss': DeviceArray(0.29667273, dtype=float32), 'model2_test_loss': DeviceArray(0.24984454, dtype=float32), 'model2_permuted_test_loss': DeviceArray(0.24984454, dtype=float32), 'bump_1_to_2': DeviceArray(2.0780387, dtype=float32), 'bump_1_to_2perm': DeviceArray(1.1783463, dtype=float32), 'bump_2_to_2perm': DeviceArray(2.5720496, dtype=float32), 'LR': 0.019999999999999993, 'optimizer': 'adam', 'epochs': 50}\n",
            "*****************************************\n",
            "Experiment 7 / 10\n",
            "--------------------------\n",
            "Starting run 0\n",
            "train_ds labels hash 1633421567493271265\n",
            "test_ds labels hash -755657542732042722\n",
            "num_train_examples 60000\n",
            "num_test_examples 10000\n"
          ]
        },
        {
          "output_type": "stream",
          "name": "stderr",
          "text": [
            "100%|██████████| 50/50 [00:12<00:00,  4.00it/s]\n"
          ]
        },
        {
          "output_type": "stream",
          "name": "stdout",
          "text": [
            "-----------------\n",
            "Run 0 DONE!\n",
            "Run=0 test loss=0.24648551642894745 test accuracy=0.954300045967102 train loss=0.10184347629547119 train accuracy=0.9713166952133179\n",
            "--------------------------\n",
            "Starting run 1\n",
            "train_ds labels hash 1633421567493271265\n",
            "test_ds labels hash -755657542732042722\n",
            "num_train_examples 60000\n",
            "num_test_examples 10000\n"
          ]
        },
        {
          "output_type": "stream",
          "name": "stderr",
          "text": [
            "100%|██████████| 50/50 [00:12<00:00,  4.03it/s]\n"
          ]
        },
        {
          "output_type": "stream",
          "name": "stdout",
          "text": [
            "-----------------\n",
            "Run 1 DONE!\n",
            "Run=1 test loss=0.2649734616279602 test accuracy=0.9374000430107117 train loss=0.15673311054706573 train accuracy=0.9543166756629944\n",
            "0/P_0: 11978.7919921875\n",
            "0/P_1: 7051.6044921875\n",
            "0/P_2: 3078.2177734375\n",
            "1/P_0: 246.23046875\n",
            "1/P_2: 0.0\n",
            "1/P_1: 448.10546875\n",
            "2/P_2: 96.4482421875\n",
            "2/P_0: 73.51953125\n",
            "2/P_1: 34.3125\n",
            "3/P_0: 18.849609375\n",
            "3/P_1: 5.2216796875\n",
            "3/P_2: 15.3017578125\n",
            "4/P_0: 4.455078125\n",
            "4/P_1: 9.1220703125\n",
            "4/P_2: 4.396484375\n",
            "5/P_1: 3.703125\n",
            "5/P_2: 0.791015625\n",
            "5/P_0: 7.541015625\n",
            "6/P_1: 3.8759765625\n",
            "6/P_2: 0.5625\n",
            "6/P_0: 4.75\n",
            "7/P_2: 0.0\n",
            "7/P_1: 1.9794921875\n",
            "7/P_0: 0.240234375\n",
            "8/P_1: 0.0478515625\n",
            "8/P_0: 0.13671875\n",
            "8/P_2: 0.171875\n",
            "9/P_0: 0.0\n",
            "9/P_1: 0.0498046875\n",
            "9/P_2: 0.0625\n",
            "10/P_2: 0.0\n",
            "10/P_0: 0.044921875\n",
            "10/P_1: 0.0\n",
            "11/P_0: 0.0\n",
            "11/P_2: 0.0\n",
            "11/P_1: 0.0\n",
            "{'model1_test_loss': DeviceArray(0.24648552, dtype=float32), 'model2_test_loss': DeviceArray(0.26497346, dtype=float32), 'model2_permuted_test_loss': DeviceArray(0.26497346, dtype=float32), 'bump_1_to_2': DeviceArray(2.3251655, dtype=float32), 'bump_1_to_2perm': DeviceArray(1.9824016, dtype=float32), 'bump_2_to_2perm': DeviceArray(2.529055, dtype=float32), 'LR': 0.025198420997897458, 'optimizer': 'adam', 'epochs': 50}\n",
            "*****************************************\n",
            "Experiment 8 / 10\n",
            "--------------------------\n",
            "Starting run 0\n",
            "train_ds labels hash 1633421567493271265\n",
            "test_ds labels hash -755657542732042722\n",
            "num_train_examples 60000\n",
            "num_test_examples 10000\n"
          ]
        },
        {
          "output_type": "stream",
          "name": "stderr",
          "text": [
            "100%|██████████| 50/50 [00:12<00:00,  4.02it/s]\n"
          ]
        },
        {
          "output_type": "stream",
          "name": "stdout",
          "text": [
            "-----------------\n",
            "Run 0 DONE!\n",
            "Run=0 test loss=0.27230602502822876 test accuracy=0.9319000244140625 train loss=0.19801366329193115 train accuracy=0.9446499943733215\n",
            "--------------------------\n",
            "Starting run 1\n",
            "train_ds labels hash 1633421567493271265\n",
            "test_ds labels hash -755657542732042722\n",
            "num_train_examples 60000\n",
            "num_test_examples 10000\n"
          ]
        },
        {
          "output_type": "stream",
          "name": "stderr",
          "text": [
            "100%|██████████| 50/50 [00:12<00:00,  4.01it/s]\n"
          ]
        },
        {
          "output_type": "stream",
          "name": "stdout",
          "text": [
            "-----------------\n",
            "Run 1 DONE!\n",
            "Run=1 test loss=0.28980347514152527 test accuracy=0.9304000735282898 train loss=0.20213346183300018 train accuracy=0.9447667002677917\n",
            "0/P_0: 16563.05859375\n",
            "0/P_1: 6196.4931640625\n",
            "0/P_2: 3485.94384765625\n",
            "1/P_0: 265.208984375\n",
            "1/P_2: 0.0\n",
            "1/P_1: 596.84375\n",
            "2/P_2: 135.7314453125\n",
            "2/P_0: 120.974609375\n",
            "2/P_1: 100.9873046875\n",
            "3/P_0: 36.091796875\n",
            "3/P_1: 6.4521484375\n",
            "3/P_2: 36.80859375\n",
            "4/P_0: 6.61328125\n",
            "4/P_1: 17.32421875\n",
            "4/P_2: 9.8564453125\n",
            "5/P_1: 7.0478515625\n",
            "5/P_2: 3.376953125\n",
            "5/P_0: 13.9609375\n",
            "6/P_1: 6.880859375\n",
            "6/P_2: 1.2900390625\n",
            "6/P_0: 4.955078125\n",
            "7/P_2: 0.0\n",
            "7/P_1: 1.2021484375\n",
            "7/P_0: 0.35546875\n",
            "8/P_1: 0.0390625\n",
            "8/P_0: 0.048828125\n",
            "8/P_2: 0.73828125\n",
            "9/P_0: 0.0\n",
            "9/P_1: 0.6806640625\n",
            "9/P_2: 2.3525390625\n",
            "10/P_2: 0.0\n",
            "10/P_0: 1.640625\n",
            "10/P_1: 1.6181640625\n",
            "11/P_0: 4.234375\n",
            "11/P_2: 7.1064453125\n",
            "11/P_1: 1.1484375\n",
            "12/P_0: 1.146484375\n",
            "12/P_1: 0.3564453125\n",
            "12/P_2: 3.8994140625\n",
            "13/P_2: 0.0\n",
            "13/P_1: 0.5400390625\n",
            "13/P_0: 7.98046875\n",
            "14/P_0: 0.0\n",
            "14/P_2: 0.2744140625\n",
            "14/P_1: 1.05078125\n",
            "15/P_1: 0.0\n",
            "15/P_0: 2.6015625\n",
            "15/P_2: 0.826171875\n",
            "16/P_1: 0.580078125\n",
            "16/P_2: 2.6455078125\n",
            "16/P_0: 1.4140625\n",
            "17/P_0: 0.0\n",
            "17/P_2: 0.0\n",
            "17/P_1: 1.76171875\n",
            "18/P_0: 0.9921875\n",
            "18/P_1: 0.27734375\n",
            "18/P_2: 0.3291015625\n",
            "19/P_0: 0.3515625\n",
            "19/P_1: 0.3095703125\n",
            "19/P_2: 2.40234375\n",
            "20/P_2: 0.0\n",
            "20/P_1: 0.923828125\n",
            "20/P_0: 2.41796875\n",
            "21/P_2: 0.033203125\n",
            "21/P_1: 0.3984375\n",
            "21/P_0: 0.4296875\n",
            "22/P_2: 0.107421875\n",
            "22/P_1: 0.078125\n",
            "22/P_0: 0.01953125\n",
            "23/P_1: 0.0\n",
            "23/P_0: 0.0\n",
            "23/P_2: 0.0830078125\n",
            "24/P_1: 0.0\n",
            "24/P_0: 0.0\n",
            "24/P_2: 0.0\n",
            "{'model1_test_loss': DeviceArray(0.27230603, dtype=float32), 'model2_test_loss': DeviceArray(0.28980348, dtype=float32), 'model2_permuted_test_loss': DeviceArray(0.28980353, dtype=float32), 'bump_1_to_2': DeviceArray(2.373704, dtype=float32), 'bump_1_to_2perm': DeviceArray(2.1951408, dtype=float32), 'bump_2_to_2perm': DeviceArray(2.8404198, dtype=float32), 'LR': 0.03174802103936399, 'optimizer': 'adam', 'epochs': 50}\n",
            "*****************************************\n",
            "Experiment 9 / 10\n",
            "--------------------------\n",
            "Starting run 0\n",
            "train_ds labels hash 1633421567493271265\n",
            "test_ds labels hash -755657542732042722\n",
            "num_train_examples 60000\n",
            "num_test_examples 10000\n"
          ]
        },
        {
          "output_type": "stream",
          "name": "stderr",
          "text": [
            "100%|██████████| 50/50 [00:12<00:00,  4.08it/s]\n"
          ]
        },
        {
          "output_type": "stream",
          "name": "stdout",
          "text": [
            "-----------------\n",
            "Run 0 DONE!\n",
            "Run=0 test loss=0.41462862491607666 test accuracy=0.8838000297546387 train loss=0.3603271245956421 train accuracy=0.8957666754722595\n",
            "--------------------------\n",
            "Starting run 1\n",
            "train_ds labels hash 1633421567493271265\n",
            "test_ds labels hash -755657542732042722\n",
            "num_train_examples 60000\n",
            "num_test_examples 10000\n"
          ]
        },
        {
          "output_type": "stream",
          "name": "stderr",
          "text": [
            "100%|██████████| 50/50 [00:12<00:00,  4.00it/s]\n"
          ]
        },
        {
          "output_type": "stream",
          "name": "stdout",
          "text": [
            "-----------------\n",
            "Run 1 DONE!\n",
            "Run=1 test loss=0.6302990317344666 test accuracy=0.8098000288009644 train loss=0.5874302983283997 train accuracy=0.8211333155632019\n",
            "0/P_0: 18548.373046875\n",
            "0/P_1: 5407.060546875\n",
            "0/P_2: 3812.298828125\n",
            "1/P_0: 480.609375\n",
            "1/P_2: 0.0\n",
            "1/P_1: 871.4111328125\n",
            "2/P_2: 222.6318359375\n",
            "2/P_0: 171.96875\n",
            "2/P_1: 102.1171875\n",
            "3/P_0: 62.93359375\n",
            "3/P_1: 9.423828125\n",
            "3/P_2: 72.51953125\n",
            "4/P_0: 9.77734375\n",
            "4/P_1: 38.85546875\n",
            "4/P_2: 31.0673828125\n",
            "5/P_1: 13.416015625\n",
            "5/P_2: 27.955078125\n",
            "5/P_0: 33.28125\n",
            "6/P_1: 22.02734375\n",
            "6/P_2: 11.78515625\n",
            "6/P_0: 7.26953125\n",
            "7/P_2: 0.0\n",
            "7/P_1: 9.62890625\n",
            "7/P_0: 6.2265625\n",
            "8/P_1: 2.47265625\n",
            "8/P_0: 0.73046875\n",
            "8/P_2: 6.3955078125\n",
            "9/P_0: 0.0\n",
            "9/P_1: 1.224609375\n",
            "9/P_2: 2.1630859375\n",
            "10/P_2: 0.0\n",
            "10/P_0: 1.4765625\n",
            "10/P_1: 2.6171875\n",
            "11/P_0: 0.43359375\n",
            "11/P_2: 2.357421875\n",
            "11/P_1: 2.240234375\n",
            "12/P_0: 1.79296875\n",
            "12/P_1: 1.8125\n",
            "12/P_2: 7.8115234375\n",
            "13/P_2: 0.0\n",
            "13/P_1: 4.861328125\n",
            "13/P_0: 6.453125\n",
            "14/P_0: 0.0\n",
            "14/P_2: 2.36328125\n",
            "14/P_1: 2.45703125\n",
            "15/P_1: 0.0\n",
            "15/P_0: 2.46875\n",
            "15/P_2: 3.13671875\n",
            "16/P_1: 2.353515625\n",
            "16/P_2: 1.822265625\n",
            "16/P_0: 3.56640625\n",
            "17/P_0: 0.0\n",
            "17/P_2: 0.0\n",
            "17/P_1: 0.48828125\n",
            "18/P_0: 2.18359375\n",
            "18/P_1: 0.365234375\n",
            "18/P_2: 3.501953125\n",
            "19/P_0: 0.234375\n",
            "19/P_1: 0.0\n",
            "19/P_2: 0.0\n",
            "20/P_2: 0.0\n",
            "20/P_1: 0.0\n",
            "20/P_0: 0.0\n",
            "{'model1_test_loss': DeviceArray(0.41462862, dtype=float32), 'model2_test_loss': DeviceArray(0.63029903, dtype=float32), 'model2_permuted_test_loss': DeviceArray(0.63029903, dtype=float32), 'bump_1_to_2': DeviceArray(2.9548116, dtype=float32), 'bump_1_to_2perm': DeviceArray(2.22419, dtype=float32), 'bump_2_to_2perm': DeviceArray(3.1315758, dtype=float32), 'LR': 0.03999999999999999, 'optimizer': 'adam', 'epochs': 50}\n"
          ]
        }
      ]
    },
    {
      "cell_type": "code",
      "source": [
        "standard_bumps = np.array([d[\"bump_1_to_2\"] for d in stored_results_dict])\n",
        "permuted_bumps = np.array([d[\"bump_1_to_2perm\"] for d in stored_results_dict])\n",
        "model1_loss = np.array([d[\"model1_test_loss\"] for d in stored_results_dict])\n",
        "model2_loss = np.array([d[\"model2_test_loss\"] for d in stored_results_dict])\n",
        "\n",
        "standard_bumps = np.reshape(standard_bumps,[reps,-1])\n",
        "permuted_bumps = np.reshape(permuted_bumps,[reps,-1])\n",
        "model1_loss = np.reshape(model1_loss,[reps,-1])\n",
        "model2_loss = np.reshape(model2_loss,[reps,-1])\n",
        "\n",
        "def get_mean_and_error(vals):\n",
        "  return np.mean(vals,axis=0), np.std(vals,axis=0)\n",
        "\n",
        "mean_standard_bumps, error_standard_bumps = get_mean_and_error(standard_bumps)\n",
        "mean_permuted_bumps, error_permuted_bumps = get_mean_and_error(permuted_bumps)\n",
        "mean_model1_loss, error_model1_loss = get_mean_and_error(model1_loss)\n",
        "mean_model2_loss, error_model2_loss = get_mean_and_error(model2_loss)\n",
        "\n",
        "fig = plt.figure(figsize = (5,4),dpi=100)\n",
        "fig.patch.set_facecolor('white')\n",
        "\n",
        "plt.title(f\"Learning rate effect on Git Re-Basin\\nMLP on MNIST, Adam, {epochs} epochs\",fontsize=14)\n",
        "\n",
        "line, = plt.semilogx(LRs[:len(mean_standard_bumps)],(mean_model1_loss+mean_model2_loss)/2.0,marker=\"o\",color=\"black\",linestyle=\"--\",label=\"Model itself\")\n",
        "plt.fill_between(LRs[:len(mean_standard_bumps)],\n",
        "                 (mean_model1_loss+mean_model2_loss)/2.0-(error_model1_loss+error_model2_loss)/2.0,\n",
        "                 (mean_model1_loss+mean_model2_loss)/2.0+(error_model1_loss+error_model2_loss)/2.0,\n",
        "                 color=line.get_color(),\n",
        "                 alpha=0.3\n",
        "                 )\n",
        "\n",
        "line, = plt.semilogx(LRs[:len(mean_standard_bumps)],mean_standard_bumps,marker=\"s\",color=\"navy\",label=\"Between models\")\n",
        "plt.fill_between(LRs[:len(mean_standard_bumps)],mean_standard_bumps-error_standard_bumps,mean_standard_bumps+error_standard_bumps,alpha=0.3,color=line.get_color())\n",
        "\n",
        "line, = plt.semilogx(LRs[:len(mean_standard_bumps)],mean_permuted_bumps,marker=\"^\",color=\"crimson\",label=\"Between model\\nand perm\")\n",
        "plt.fill_between(LRs[:len(mean_standard_bumps)],mean_permuted_bumps-error_permuted_bumps,mean_permuted_bumps+error_permuted_bumps,alpha=0.3,color=line.get_color())\n",
        "\n",
        "from matplotlib.patches import Rectangle\n",
        "currentAxis = plt.gca()\n",
        "currentAxis.add_patch(Rectangle((LRs[0], 0.0),LRs[3]-LRs[0],3.0, fill=True, color=\"green\", alpha=0.3))\n",
        "\n",
        "plt.xticks(fontsize=14)\n",
        "plt.yticks(fontsize=14)\n",
        "\n",
        "plt.xlabel(\"Learning rate\",fontsize=16)\n",
        "plt.ylabel(\"Test set loss\",fontsize=16)\n",
        "\n",
        "plt.legend(fontsize=10)\n",
        "plt.show()"
      ],
      "metadata": {
        "colab": {
          "base_uri": "https://localhost:8080/",
          "height": 441
        },
        "id": "5UeX0ZxhSmjs",
        "outputId": "63c4fe46-0397-4f34-a63c-713f404ebbad"
      },
      "execution_count": 120,
      "outputs": [
        {
          "output_type": "display_data",
          "data": {
            "text/plain": [
              "<Figure size 500x400 with 1 Axes>"
            ],
            "image/png": "[encoded data removed]"
          },
          "metadata": {}
        }
      ]
    },
    {
      "cell_type": "code",
      "source": [],
      "metadata": {
        "id": "u7SUFa7vVIDf"
      },
      "execution_count": null,
      "outputs": []
    }
  ]
}